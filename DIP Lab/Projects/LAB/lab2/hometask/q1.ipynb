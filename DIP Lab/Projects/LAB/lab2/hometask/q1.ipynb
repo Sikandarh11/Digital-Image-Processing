{
 "cells": [
  {
   "cell_type": "code",
   "execution_count": 12,
   "metadata": {},
   "outputs": [
    {
     "data": {
      "text/plain": [
       "-1"
      ]
     },
     "execution_count": 12,
     "metadata": {},
     "output_type": "execute_result"
    }
   ],
   "source": [
    "import numpy as np\n",
    "import cv2\n",
    "\n",
    "height, width = 501, 501\n",
    "\n",
    "x = np.arange(width)\n",
    "y = np.arange(height)\n",
    "X, Y = np.meshgrid(x, y)\n",
    "\n",
    "center_x, center_y = width // 2, height // 2\n",
    "\n",
    "distance_values = np.sqrt((X - center_x) ** 2 + (Y - center_y) ** 2)\n",
    "\n",
    "distance_map = cv2.normalize(distance_values, None, 0, 255, cv2.NORM_MINMAX)\n",
    "distance_map = np.uint8(distance_map)  \n",
    "\n",
    "def quantize_image(image, levels):\n",
    "    step = 256 // levels  \n",
    "    return (image // step) * step  \n",
    "\n",
    "distance_map_16 = quantize_image(distance_map, 16)  \n",
    "distance_map_4 = quantize_image(distance_map, 4)    \n",
    "distance_map_1 = quantize_image(distance_map, 2)    \n",
    "\n",
    "cv2.imshow(\"Original\", distance_map)\n",
    "cv2.imshow(\"16-Level\", distance_map_16)\n",
    "cv2.imshow(\"4-Level\", distance_map_4)\n",
    "cv2.imshow(\"Binary\", distance_map_1)\n",
    "\n",
    "cv2.waitKey()\n"
   ]
  },
  {
   "cell_type": "code",
   "execution_count": null,
   "metadata": {},
   "outputs": [
    {
     "name": "stdout",
     "output_type": "stream",
     "text": [
      "Number of objects: 6\n"
     ]
    }
   ],
   "source": [
    "import cv2\n",
    "import numpy as np\n",
    "\n",
    "image = cv2.imread('Maze.png', 0)\n",
    "\n",
    "rows, cols = image.shape\n",
    "\n",
    "padded_image = np.zeros((rows + 2, cols + 2), dtype=np.uint8)\n",
    "padded_image[1:-1, 1:-1] = image\n",
    "\n",
    "padded_image[padded_image >= 127] = 255\n",
    "padded_image[padded_image < 127] = 0\n",
    "\n",
    "result_matrix = np.zeros_like(padded_image, dtype=np.int32)\n",
    "label_counter = 1\n",
    "\n",
    "for i in range(1, rows + 1):\n",
    "    for j in range(1, cols + 1):\n",
    "        if padded_image[i, j] != 0:\n",
    "            if padded_image[i - 1, j] == 0 and padded_image[i, j - 1] == 0:\n",
    "                result_matrix[i, j] = label_counter\n",
    "                label_counter += 1\n",
    "            elif padded_image[i - 1, j] != 0 and padded_image[i, j - 1] == 0:\n",
    "                result_matrix[i, j] = result_matrix[i - 1, j]\n",
    "            elif padded_image[i - 1, j] == 0 and padded_image[i, j - 1] != 0:\n",
    "                result_matrix[i, j] = result_matrix[i, j - 1]\n",
    "            else:\n",
    "                if result_matrix[i - 1, j] < result_matrix[i, j - 1]:\n",
    "                    result_matrix[i, j] = result_matrix[i - 1, j]\n",
    "                    result_matrix[i, j - 1] = result_matrix[i - 1, j]\n",
    "                    label_counter -= 1\n",
    "                elif result_matrix[i - 1, j] == result_matrix[i, j - 1]:\n",
    "                    result_matrix[i, j] = result_matrix[i, j - 1]\n",
    "                else:\n",
    "                    result_matrix[i, j] = result_matrix[i, j - 1]\n",
    "                    result_matrix[i - 1, j] = result_matrix[i, j - 1]\n",
    "\n",
    "print('Number of objects:', np.amax(result_matrix))\n",
    "\n",
    "def find_opening_label(result_matrix, row=0):\n",
    "    for j in range(1, cols + 1):\n",
    "        if result_matrix[1, j] != 0:  \n",
    "            return result_matrix[1, j]\n",
    "    return None \n",
    "\n",
    "def highlight_label(image, result_matrix, label):\n",
    "    colored_image = cv2.cvtColor(image, cv2.COLOR_GRAY2BGR)  \n",
    "    for i in range(1, rows + 1):\n",
    "        for j in range(1, cols + 1):\n",
    "            if result_matrix[i, j] == label:\n",
    "                colored_image[i - 1, j - 1] = (0, 0, 255) \n",
    "    return colored_image\n",
    "\n",
    "opening_label = find_opening_label(result_matrix)\n",
    "colored_image = highlight_label(image, result_matrix, opening_label)\n",
    "\n",
    "cv2.imshow('Original Image', image)\n",
    "cv2.imshow('Highlighted Opening', colored_image)\n",
    "cv2.waitKey(0)\n",
    "cv2.destroyAllWindows()"
   ]
  },
  {
   "cell_type": "code",
   "execution_count": 2,
   "metadata": {},
   "outputs": [
    {
     "data": {
      "text/plain": [
       "-1"
      ]
     },
     "execution_count": 2,
     "metadata": {},
     "output_type": "execute_result"
    }
   ],
   "source": [
    "import cv2\n",
    "import numpy as np\n",
    "from collections import deque\n",
    "\n",
    "binary_maze = cv2.imread(\"Maze.png\", 0)\n",
    "rows, cols = binary_maze.shape\n",
    "colored_maze = cv2.cvtColor(binary_maze, cv2.COLOR_GRAY2BGR)\n",
    "\n",
    "start = (0, np.where(binary_maze[0] == 255)[0][0])\n",
    "end = (rows - 1, np.where(binary_maze[-1] == 255)[0][0])\n",
    "\n",
    "def bfs(maze, start, end):\n",
    "    queue = deque([([start], start)])  \n",
    "    visited = set([start])\n",
    "\n",
    "    while queue:\n",
    "        path, (x, y) = queue.popleft()\n",
    "        if (x, y) == end:\n",
    "            return path  \n",
    "\n",
    "        for dx, dy in [(-1, 0), (1, 0), (0, -1), (0, 1)]:\n",
    "            nx, ny = x + dx, y + dy\n",
    "            if 0 <= nx < rows and 0 <= ny < cols and maze[nx, ny] == 255 and (nx, ny) not in visited:\n",
    "                queue.append((path + [(nx, ny)], (nx, ny)))\n",
    "                visited.add((nx, ny))\n",
    "\n",
    "path = bfs(binary_maze, start, end)\n",
    "if path:\n",
    "    for x, y in path:\n",
    "        colored_maze[x, y] = (0, 0, 255)\n",
    "\n",
    "cv2.imshow(\"Solved Maze\", colored_maze)\n",
    "cv2.waitKey()"
   ]
  },
  {
   "cell_type": "code",
   "execution_count": null,
   "metadata": {},
   "outputs": [],
   "source": []
  }
 ],
 "metadata": {
  "kernelspec": {
   "display_name": "Python 3",
   "language": "python",
   "name": "python3"
  },
  "language_info": {
   "codemirror_mode": {
    "name": "ipython",
    "version": 3
   },
   "file_extension": ".py",
   "mimetype": "text/x-python",
   "name": "python",
   "nbconvert_exporter": "python",
   "pygments_lexer": "ipython3",
   "version": "3.13.2"
  }
 },
 "nbformat": 4,
 "nbformat_minor": 2
}
