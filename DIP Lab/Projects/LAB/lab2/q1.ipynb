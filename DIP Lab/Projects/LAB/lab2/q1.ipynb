{
 "cells": [
  {
   "cell_type": "code",
   "metadata": {
    "ExecuteTime": {
     "end_time": "2025-05-08T06:31:57.465736Z",
     "start_time": "2025-05-08T06:31:57.206101Z"
    }
   },
   "source": [
    "import numpy as np\n",
    "import cv2"
   ],
   "outputs": [],
   "execution_count": 1
  },
  {
   "cell_type": "code",
   "metadata": {
    "ExecuteTime": {
     "end_time": "2025-05-08T06:31:58.306494Z",
     "start_time": "2025-05-08T06:31:57.480886Z"
    }
   },
   "source": [
    "image = cv2.imread('E:/DIP/lab/lab2/gradient.png', 0)\n",
    "cv2.imshow('Original Image', image)\n",
    "cv2.waitKey()\n",
    "\n",
    "def quantize_image(img, levels):\n",
    "    step = 256 // levels\n",
    "    return (img // step) * step\n",
    "\n",
    "a = quantize_image(image, 16)\n",
    "b = quantize_image(image, 4)\n",
    "c = quantize_image(image, 2)\n",
    "\n",
    "cv2.imshow('Original', image)\n",
    "cv2.imshow('16 Levels', a)\n",
    "cv2.imshow('4 Levels', b)\n",
    "cv2.imshow('1 Level', c)\n",
    "\n",
    "cv2.waitKey()"
   ],
   "outputs": [
    {
     "ename": "error",
     "evalue": "OpenCV(4.11.0) D:\\a\\opencv-python\\opencv-python\\opencv\\modules\\highgui\\src\\window.cpp:973: error: (-215:Assertion failed) size.width>0 && size.height>0 in function 'cv::imshow'\n",
     "output_type": "error",
     "traceback": [
      "\u001B[31m---------------------------------------------------------------------------\u001B[39m",
      "\u001B[31merror\u001B[39m                                     Traceback (most recent call last)",
      "\u001B[36mCell\u001B[39m\u001B[36m \u001B[39m\u001B[32mIn[2]\u001B[39m\u001B[32m, line 2\u001B[39m\n\u001B[32m      1\u001B[39m image = cv2.imread(\u001B[33m'\u001B[39m\u001B[33mE:/DIP/lab/lab2/gradient.png\u001B[39m\u001B[33m'\u001B[39m, \u001B[32m0\u001B[39m)\n\u001B[32m----> \u001B[39m\u001B[32m2\u001B[39m \u001B[43mcv2\u001B[49m\u001B[43m.\u001B[49m\u001B[43mimshow\u001B[49m\u001B[43m(\u001B[49m\u001B[33;43m'\u001B[39;49m\u001B[33;43mOriginal Image\u001B[39;49m\u001B[33;43m'\u001B[39;49m\u001B[43m,\u001B[49m\u001B[43m \u001B[49m\u001B[43mimage\u001B[49m\u001B[43m)\u001B[49m\n\u001B[32m      3\u001B[39m cv2.waitKey()\n\u001B[32m      5\u001B[39m \u001B[38;5;28;01mdef\u001B[39;00m\u001B[38;5;250m \u001B[39m\u001B[34mquantize_image\u001B[39m(img, levels):\n",
      "\u001B[31merror\u001B[39m: OpenCV(4.11.0) D:\\a\\opencv-python\\opencv-python\\opencv\\modules\\highgui\\src\\window.cpp:973: error: (-215:Assertion failed) size.width>0 && size.height>0 in function 'cv::imshow'\n"
     ]
    }
   ],
   "execution_count": 2
  },
  {
   "cell_type": "code",
   "execution_count": null,
   "metadata": {},
   "outputs": [],
   "source": [
    "import cv2\n",
    "import numpy as np\n",
    "\n",
    "img = cv2.imread('E:/DIP/lab/lab2/gradient.png', cv2.IMREAD_GRAYSCALE)\n",
    "cv2.imshow('Original Image', b)\n",
    "cv2.waitKey()\n",
    "\n",
    "def process(image, levels):\n",
    "    height, width = image.shape\n",
    "    quantized_img = np.zeros_like(image, dtype=np.uint8)\n",
    "    step = 256 // levels\n",
    "    \n",
    "    for i in range(height):\n",
    "        for j in range(width):\n",
    "            quantized_img[i, j] = (image[i, j] // step) * step\n",
    "    \n",
    "    return quantized_img\n",
    "\n",
    "img_16_levels = process(img, 16)\n",
    "img_4_levels = process(img, 4)\n",
    "img_1_level = process(img, 2)\n",
    "\n",
    "cv2.imshow('Original', img)\n",
    "cv2.imshow('16 Levels', img_16_levels)\n",
    "cv2.imshow('4 Levels', img_4_levels)\n",
    "cv2.imshow('1 Level', img_1_level)\n",
    "\n",
    "cv2.waitKey()\n",
    "cv2.destroyAllWindows()\n"
   ]
  },
  {
   "cell_type": "code",
   "execution_count": 2,
   "metadata": {},
   "outputs": [
    {
     "name": "stdout",
     "output_type": "stream",
     "text": [
      "Number of objects: 9\n"
     ]
    }
   ],
   "source": [
    "import cv2\n",
    "import numpy as np\n",
    "\n",
    "image = cv2.imread('E:/DIP/lab/lab2/cc.png', 0)\n",
    "\n",
    "rows, cols = image.shape\n",
    "\n",
    "padded_image = np.zeros((rows + 2, cols + 2), dtype=np.uint8)\n",
    "padded_image[1:-1, 1:-1] = image\n",
    "\n",
    "\n",
    "padded_image[padded_image >= 127] = 255\n",
    "padded_image[padded_image < 127] = 0\n",
    "\n",
    "result_matrix = np.zeros_like(padded_image, dtype=np.uint8)\n",
    "label_counter = 1\n",
    "\n",
    "\n",
    "for i in range(1, rows + 1):\n",
    "    for j in range(1, cols + 1):\n",
    "        if padded_image[i, j] != 0:\n",
    "            if padded_image[i - 1, j] == 0 and padded_image[i, j - 1] == 0:\n",
    "                result_matrix[i, j] = label_counter\n",
    "                label_counter += 1\n",
    "            elif padded_image[i - 1, j] != 0 and padded_image[i, j - 1] == 0:\n",
    "                result_matrix[i, j] = result_matrix[i - 1, j]\n",
    "            elif padded_image[i - 1, j] == 0 and padded_image[i, j - 1] != 0:\n",
    "                result_matrix[i, j] = result_matrix[i, j - 1]\n",
    "            else:\n",
    "                if result_matrix[i - 1, j] < result_matrix[i, j - 1]:\n",
    "                    result_matrix[i, j] = result_matrix[i - 1, j]\n",
    "                    result_matrix[i, j - 1] = result_matrix[i - 1, j]\n",
    "                    label_counter -= 1\n",
    "                elif result_matrix[i - 1, j] == result_matrix[i, j - 1]:\n",
    "                    result_matrix[i, j] = result_matrix[i, j - 1]\n",
    "                else:\n",
    "                    result_matrix[i, j] = result_matrix[i, j - 1]\n",
    "                    result_matrix[i - 1, j] = result_matrix[i, j - 1]\n",
    "\n",
    "for k in range(1, rows + 1):\n",
    "    for l in range(cols, 0, -1):\n",
    "        if result_matrix[k, l] != 0 and result_matrix[k, l - 1] != 0 and result_matrix[k, l] > result_matrix[k, l - 1]:\n",
    "            result_matrix[k, l] = result_matrix[k, l - 1]\n",
    "\n",
    "\n",
    "print('Number of objects:',np.amax(result_matrix))\n",
    "\n",
    "cv2.imshow('Image', padded_image)\n",
    "cv2.waitKey(0)\n",
    "cv2.destroyAllWindows()"
   ]
  }
 ],
 "metadata": {
  "kernelspec": {
   "display_name": "Python 3",
   "language": "python",
   "name": "python3"
  },
  "language_info": {
   "codemirror_mode": {
    "name": "ipython",
    "version": 3
   },
   "file_extension": ".py",
   "mimetype": "text/x-python",
   "name": "python",
   "nbconvert_exporter": "python",
   "pygments_lexer": "ipython3",
   "version": "3.13.2"
  }
 },
 "nbformat": 4,
 "nbformat_minor": 2
}
