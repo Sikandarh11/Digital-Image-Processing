{
 "cells": [
  {
   "cell_type": "code",
   "execution_count": 2,
   "metadata": {},
   "outputs": [],
   "source": [
    "import numpy as np\n",
    "import cv2\n",
    "\n",
    "def lister(a,x):\n",
    "    a_1=min(a)\n",
    "    a_2=max(a)\n",
    "    return x-a_1/(a_2-a_1)\n",
    "\n",
    "def normalizer(a):\n",
    "    sum=0\n",
    "    for i in a:\n",
    "        a[sum]=lister(a,int(i))\n",
    "        sum=sum+1\n",
    "    return a"
   ]
  },
  {
   "cell_type": "code",
   "execution_count": 3,
   "metadata": {},
   "outputs": [
    {
     "name": "stdout",
     "output_type": "stream",
     "text": [
      "[1.5, 3.6666666666666665, 1.6666666666666667, 4.666666666666667, 5.666666666666667]\n"
     ]
    }
   ],
   "source": [
    "list_1= [2,4,2,5,6]\n",
    "list_2=normalizer(list_1)\n",
    "print(list_2)\n"
   ]
  },
  {
   "cell_type": "markdown",
   "metadata": {},
   "source": [
    "Task 2"
   ]
  },
  {
   "cell_type": "code",
   "execution_count": 10,
   "metadata": {},
   "outputs": [
    {
     "data": {
      "text/plain": [
       "(510, 510)"
      ]
     },
     "execution_count": 10,
     "metadata": {},
     "output_type": "execute_result"
    }
   ],
   "source": [
    "import cv2\n",
    "import numpy as np\n",
    "\n",
    "\n",
    "def padder(matrix,height,width,x,y):\n",
    "    out=np.zeros((height+x,width+y),dtype=np.uint8)\n",
    "    for i in range(height+x):\n",
    "        for j in range(width+y):\n",
    "            if i < 20 or i >= 500  or j < 20 or j >= 500:\n",
    "                out[i, j] = 0\n",
    "            else:\n",
    "                out[i, j] = matrix[i,j]  \n",
    "    return out\n",
    "\n",
    "matrix1 = np.ones((510, 510), dtype=np.uint8) * 205\n",
    "out=padder(matrix1,500,500,20,20)\n",
    "\n",
    "cv2.imshow('win', out)\n",
    "cv2.waitKey(0)\n",
    "matrix1.shape"
   ]
  },
  {
   "cell_type": "code",
   "execution_count": 4,
   "metadata": {},
   "outputs": [],
   "source": [
    "def vertical_lines(boxx):   \n",
    "    for j in range(510):\n",
    "        if (j // 10) % 2 == 0: \n",
    "            boxx[:, j] = 0  \n",
    "        else:\n",
    "            boxx[:, j] = 255       \n",
    "    return boxx\n",
    "\n",
    "def center (boxx):\n",
    "    for i in range (200,250):\n",
    "        for j in range (200,250):\n",
    "            boxx[i,j]=255\n",
    "    return boxx\n",
    "\n",
    "def mixed(boxx):   \n",
    "    for j in range(510):\n",
    "        if (j // 10) % 2 == 0: \n",
    "            boxx[:, j] = 0    \n",
    "\n",
    "    for i in range(510):\n",
    "        if (i // 10) % 2 == 0:  \n",
    "            boxx[i, :] = 0 \n",
    "    return boxx\n",
    "\n",
    "boxx = np.ones((512, 512), dtype=np.uint8) * 255\n",
    "boxx = vertical_lines(boxx)\n",
    "\n",
    "boxx_1 = np.ones((512, 512), dtype=np.uint8) \n",
    "boxx_1 = center(boxx_1)\n",
    "\n",
    "boxx_2 = np.ones((512, 512), dtype=np.uint8)*255\n",
    "boxx_2 = mixed(boxx_2)"
   ]
  },
  {
   "cell_type": "code",
   "execution_count": 5,
   "metadata": {},
   "outputs": [
    {
     "data": {
      "text/plain": [
       "-1"
      ]
     },
     "execution_count": 5,
     "metadata": {},
     "output_type": "execute_result"
    }
   ],
   "source": [
    "cv2.imshow('win', boxx)\n",
    "cv2.waitKey(0)"
   ]
  },
  {
   "cell_type": "code",
   "execution_count": 6,
   "metadata": {},
   "outputs": [
    {
     "data": {
      "text/plain": [
       "-1"
      ]
     },
     "execution_count": 6,
     "metadata": {},
     "output_type": "execute_result"
    }
   ],
   "source": [
    "cv2.imshow('win', boxx_1)\n",
    "cv2.waitKey(0)"
   ]
  },
  {
   "cell_type": "code",
   "execution_count": 7,
   "metadata": {},
   "outputs": [
    {
     "data": {
      "text/plain": [
       "-1"
      ]
     },
     "execution_count": 7,
     "metadata": {},
     "output_type": "execute_result"
    }
   ],
   "source": [
    "cv2.imshow('win', boxx_2)\n",
    "cv2.waitKey(0)"
   ]
  },
  {
   "cell_type": "code",
   "execution_count": 8,
   "metadata": {},
   "outputs": [
    {
     "data": {
      "text/plain": [
       "-1"
      ]
     },
     "execution_count": 8,
     "metadata": {},
     "output_type": "execute_result"
    }
   ],
   "source": [
    "import numpy as np\n",
    "import cv2\n",
    "\n",
    "def create_image_with_boxes(image_size):\n",
    "    image = np.ones((image_size, image_size, 3), dtype=np.uint8) * 255\n",
    "    box_size = image_size // 8\n",
    "    \n",
    "    image[:box_size, :box_size] = [0, 0, 255]\n",
    "    image[:box_size, -box_size:] = [0, 255, 0]\n",
    "    image[-box_size:, :box_size] = [255, 0, 0]\n",
    "    image[-box_size:, -box_size:] = [0, 0, 0]\n",
    "    \n",
    "    return image\n",
    "\n",
    "image_size = 500\n",
    "image_with_boxes = create_image_with_boxes(image_size)\n",
    "\n",
    "cv2.imshow('Image with Colored Boxes', image_with_boxes)\n",
    "cv2.waitKey(0)\n"
   ]
  },
  {
   "cell_type": "code",
   "execution_count": 9,
   "metadata": {},
   "outputs": [
    {
     "data": {
      "text/plain": [
       "-1"
      ]
     },
     "execution_count": 9,
     "metadata": {},
     "output_type": "execute_result"
    }
   ],
   "source": [
    "def mirror_image(image):\n",
    "    height, width= image.shape\n",
    "    half_height = height // 2\n",
    "    \n",
    "    for i in range(half_height):\n",
    "        for j in range(width):\n",
    "            image[height - i-1, j] = image[i, j]\n",
    "    return image\n",
    "\n",
    "imager=cv2.imread('lab1.png',0)\n",
    "image=mirror_image(imager)\n",
    "height, width= imager.shape\n",
    "\n",
    "cv2.imshow('Win', image)\n",
    "cv2.waitKey(0)"
   ]
  },
  {
   "cell_type": "code",
   "execution_count": 10,
   "metadata": {},
   "outputs": [
    {
     "data": {
      "text/plain": [
       "-1"
      ]
     },
     "execution_count": 10,
     "metadata": {},
     "output_type": "execute_result"
    }
   ],
   "source": [
    "abc=np.ones((500,500),dtype=np.uint8)*255\n",
    "\n",
    "for i in range (500):\n",
    "    for j in range (500):\n",
    "        if i<50 or i>450 or j<50 or j>450:\n",
    "            abc[i,j]=0\n",
    "\n",
    "cv2.imshow('win',abc)\n",
    "cv2.waitKey()"
   ]
  },
  {
   "cell_type": "code",
   "execution_count": 11,
   "metadata": {},
   "outputs": [
    {
     "data": {
      "text/plain": [
       "-1"
      ]
     },
     "execution_count": 11,
     "metadata": {},
     "output_type": "execute_result"
    }
   ],
   "source": [
    "def downsample(image, f):\n",
    "    height, width, channels = image.shape\n",
    "    new_height, new_width = height // f, width // f\n",
    "    down = np.zeros((new_height, new_width, channels), dtype=np.uint8)\n",
    "\n",
    "    for i in range(new_height):\n",
    "        for j in range(new_width):\n",
    "            down[i, j] = image[i * f, j * f]\n",
    "    return down\n",
    "\n",
    "imager = cv2.imread('lab1.png')\n",
    "resizedImage = cv2.resize(imager, (512, 512),interpolation=cv2.INTER_NEAREST)\n",
    "cv2.imshow('win', resizedImage)\n",
    "cv2.waitKey()\n",
    "downsampleImage = downsample(resizedImage,4)\n",
    "cv2.imshow('win', downsampleImage)\n",
    "cv2.waitKey()"
   ]
  },
  {
   "cell_type": "code",
   "execution_count": null,
   "metadata": {},
   "outputs": [],
   "source": []
  }
 ],
 "metadata": {
  "kernelspec": {
   "display_name": "Python 3",
   "language": "python",
   "name": "python3"
  },
  "language_info": {
   "codemirror_mode": {
    "name": "ipython",
    "version": 3
   },
   "file_extension": ".py",
   "mimetype": "text/x-python",
   "name": "python",
   "nbconvert_exporter": "python",
   "pygments_lexer": "ipython3",
   "version": "3.13.2"
  }
 },
 "nbformat": 4,
 "nbformat_minor": 2
}
