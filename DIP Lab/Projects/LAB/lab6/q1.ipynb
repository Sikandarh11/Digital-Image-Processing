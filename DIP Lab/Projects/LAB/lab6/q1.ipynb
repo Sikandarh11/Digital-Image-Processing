{
 "cells": [
  {
   "cell_type": "code",
   "execution_count": null,
   "metadata": {},
   "outputs": [
    {
     "data": {
      "text/plain": [
       "-1"
      ]
     },
     "execution_count": 1,
     "metadata": {},
     "output_type": "execute_result"
    }
   ],
   "source": [
    "import numpy as np\n",
    "import cv2\n",
    "\n",
    "image = cv2.imread('Threshold_Image.png', 0)\n",
    "\n",
    "def mean_median(image):\n",
    "    mean = np.mean(image)\n",
    "    median = np.median(image)\n",
    "    return mean, median\n",
    "\n",
    "mean, median = mean_median(image)\n",
    "image1=image.copy()\n",
    "image2=image.copy()\n",
    "\n",
    "image1 = np.where(image1 > mean, 255, 0).astype(np.uint8)\n",
    "image2 = np.where(image2 > median, 255, 0).astype(np.uint8)\n",
    "    \n",
    "cv2.imshow('Mean', image1)\n",
    "cv2.imshow('Median', image2)\n",
    "cv2.waitKey(0)\n"
   ]
  },
  {
   "cell_type": "code",
   "execution_count": 2,
   "metadata": {},
   "outputs": [],
   "source": [
    "import numpy as np\n",
    "import cv2\n",
    "\n",
    "def smoothing_filter(original):\n",
    "    def padder(matrix):\n",
    "        height, width = matrix.shape\n",
    "        padded_image = np.zeros((height + 2, width + 2), dtype=np.uint8)\n",
    "        padded_image[1:height + 1, 1:width + 1] = matrix\n",
    "        return padded_image\n",
    "\n",
    "    rows, columns = original.shape\n",
    "    padded_image = padder(original)\n",
    "\n",
    "    mean_filter = np.zeros_like(original, dtype=np.uint8)\n",
    "    median_filter = np.zeros_like(original, dtype=np.uint8)\n",
    "\n",
    "    for i in range(rows):\n",
    "        for j in range(columns):\n",
    "            subimg = padded_image[i:i + 3, j:j + 3]\n",
    "\n",
    "            mean_val = np.mean(subimg)\n",
    "            median_val = np.median(subimg)\n",
    "\n",
    "            mean_filter[i, j] = 255 if original[i, j] > mean_val else 0\n",
    "            median_filter[i, j] = 255 if original[i, j] > median_val else 0\n",
    "\n",
    "    return mean_filter, median_filter\n",
    "\n",
    "original = cv2.imread('Threshold_Image.png', 0)\n",
    "\n",
    "mean_filter, median_filter = smoothing_filter(original)\n",
    "\n",
    "cv2.imshow('Mean Filter', mean_filter)\n",
    "cv2.imshow('Median Filter', median_filter)\n",
    "cv2.waitKey(0)\n",
    "cv2.destroyAllWindows()\n"
   ]
  },
  {
   "cell_type": "code",
   "execution_count": null,
   "metadata": {},
   "outputs": [],
   "source": [
    "import numpy as np\n",
    "import cv2\n",
    "\n",
    "def smoothing_filter(original):\n",
    "    rows, columns = original.shape\n",
    "    mean_filter = np.zeros_like(original, dtype=np.uint8)\n",
    "    median_filter = np.zeros_like(original, dtype=np.uint8)\n",
    "\n",
    "    for i in range(0, rows-2, 3):  \n",
    "        for j in range(0, columns-2, 3):\n",
    "            subimg = original[i:i + 3, j:j + 3] \n",
    "\n",
    "            mean_val = np.mean(subimg)\n",
    "            median_val = np.median(subimg)\n",
    "            mean_filter[i:i + 3, j:j + 3] = np.where(subimg >= mean_val, 255, 0)\n",
    "            median_filter[i:i + 3, j:j + 3] = np.where(subimg >= median_val, 255, 0)\n",
    "\n",
    "    return mean_filter, median_filter\n",
    "\n",
    "original = cv2.imread('Threshold_Image.png', 0)\n",
    "mean_filter, median_filter = smoothing_filter(original)\n",
    "\n",
    "cv2.imshow('Mean Filter ', mean_filter)\n",
    "cv2.imshow('Median Filter', median_filter)\n",
    "cv2.waitKey(0)\n",
    "cv2.destroyAllWindows()\n"
   ]
  },
  {
   "cell_type": "code",
   "execution_count": 3,
   "metadata": {},
   "outputs": [
    {
     "data": {
      "text/plain": [
       "-1"
      ]
     },
     "execution_count": 3,
     "metadata": {},
     "output_type": "execute_result"
    }
   ],
   "source": [
    "import numpy as np\n",
    "import cv2\n",
    "\n",
    "# Load the image in grayscale\n",
    "image = cv2.imread('Fig03.tif', cv2.IMREAD_GRAYSCALE)\n",
    "\n",
    "# Define a kernel (structuring element)\n",
    "kernel = np.ones((3,3), dtype=np.uint8)  # 3x3 kernel\n",
    "\n",
    "def apply_erosion(image, kernel):\n",
    "    h, w = image.shape\n",
    "    kh, kw = kernel.shape\n",
    "    pad_h, pad_w = kh // 2, kw // 2\n",
    "\n",
    "    # Create a padded copy of the image\n",
    "    padded_img = np.pad(image, ((pad_h, pad_h), (pad_w, pad_w)), mode='constant', constant_values=0)\n",
    "    eroded_img = np.zeros_like(image)\n",
    "\n",
    "    # Perform erosion (minimum value in the kernel region)\n",
    "    for i in range(h):\n",
    "        for j in range(w):\n",
    "            region = padded_img[i:i+kh, j:j+kw]\n",
    "            eroded_img[i, j] = np.min(region)  # Take the minimum value\n",
    "\n",
    "    return eroded_img\n",
    "\n",
    "def apply_dilation(image, kernel):\n",
    "    h, w = image.shape\n",
    "    kh, kw = kernel.shape\n",
    "    pad_h, pad_w = kh // 2, kw // 2\n",
    "\n",
    "    # Create a padded copy of the image\n",
    "    padded_img = np.pad(image, ((pad_h, pad_h), (pad_w, pad_w)), mode='constant', constant_values=0)\n",
    "    dilated_img = np.zeros_like(image)\n",
    "\n",
    "    # Perform dilation (maximum value in the kernel region)\n",
    "    for i in range(h):\n",
    "        for j in range(w):\n",
    "            region = padded_img[i:i+kh, j:j+kw]\n",
    "            dilated_img[i, j] = np.max(region)  # Take the maximum value\n",
    "\n",
    "    return dilated_img\n",
    "\n",
    "# Apply Erosion and Dilation\n",
    "eroded_image = apply_erosion(image, kernel)\n",
    "dilated_image = apply_dilation(image, kernel)\n",
    "\n",
    "# Apply Opening (Erosion followed by Dilation)\n",
    "opened_image = apply_dilation(eroded_image, kernel)\n",
    "\n",
    "# Apply Closing (Dilation followed by Erosion)\n",
    "closed_image = apply_erosion(dilated_image, kernel)\n",
    "\n",
    "# Display results\n",
    "cv2.imshow('Original', image)\n",
    "cv2.imshow('Erosion', eroded_image)\n",
    "cv2.imshow('Dilation', dilated_image)\n",
    "cv2.imshow('Opening', opened_image)\n",
    "cv2.imshow('Closing', closed_image)\n",
    "\n",
    "cv2.waitKey(0)"
   ]
  }
 ],
 "metadata": {
  "kernelspec": {
   "display_name": "Python 3",
   "language": "python",
   "name": "python3"
  },
  "language_info": {
   "codemirror_mode": {
    "name": "ipython",
    "version": 3
   },
   "file_extension": ".py",
   "mimetype": "text/x-python",
   "name": "python",
   "nbconvert_exporter": "python",
   "pygments_lexer": "ipython3",
   "version": "3.13.2"
  }
 },
 "nbformat": 4,
 "nbformat_minor": 2
}
