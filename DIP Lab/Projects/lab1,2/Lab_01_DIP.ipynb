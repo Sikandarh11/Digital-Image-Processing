{
 "cells": [
  {
   "cell_type": "code",
   "id": "initial_id",
   "metadata": {
    "collapsed": true,
    "ExecuteTime": {
     "end_time": "2025-05-08T06:29:32.678434Z",
     "start_time": "2025-05-08T06:29:32.541445Z"
    }
   },
   "source": [
    "import numpy as np\n",
    "def normalize(x=None):\n",
    "    if x is None:\n",
    "        x = []\n",
    "    min = np.min(x)\n",
    "    max = np.max(x)\n",
    "    for i in range(len(x)):\n",
    "        x[i] = float( (x[i] - min)/(max - min) )\n",
    "    return x\n",
    "a  = np.array([19.9,22.8,23,433,45.6,66,76,48,49])\n",
    "print(normalize(a))"
   ],
   "outputs": [
    {
     "name": "stdout",
     "output_type": "stream",
     "text": [
      "[0.         0.00702009 0.00750424 1.         0.06221254 0.11159526\n",
      " 0.13580247 0.06802227 0.07044299]\n"
     ]
    }
   ],
   "execution_count": 2
  },
  {
   "metadata": {
    "ExecuteTime": {
     "end_time": "2025-02-01T04:55:11.684323Z",
     "start_time": "2025-02-01T04:54:04.079604Z"
    }
   },
   "cell_type": "code",
   "source": [
    "import numpy as np\n",
    "import cv2\n",
    "r = 500\n",
    "c = 500\n",
    "pad = 10\n",
    "matrix = np.ones ((r+2*pad, c+2*pad), dtype=np.uint8) *255\n",
    "matrix[0:(r+2*pad), 0:pad] = 0\n",
    "matrix[0:(r+2*pad), c+pad: c+2*pad] = 0\n",
    "matrix[0:pad , pad:c+pad*2] = 0\n",
    "matrix[r+pad:r+2*pad , pad:c+pad*2] = 0\n",
    "cv2.imshow('win', matrix)\n",
    "cv2.waitKey()"
   ],
   "id": "1e52db9be0d97e22",
   "outputs": [
    {
     "data": {
      "text/plain": [
       "-1"
      ]
     },
     "execution_count": 7,
     "metadata": {},
     "output_type": "execute_result"
    }
   ],
   "execution_count": 7
  },
  {
   "metadata": {
    "ExecuteTime": {
     "end_time": "2025-02-01T04:53:33.053508Z",
     "start_time": "2025-02-01T04:53:29.825226Z"
    }
   },
   "cell_type": "code",
   "source": [
    "import cv2\n",
    "cv2.imshow('win', matrix)\n",
    "cv2.waitKey()"
   ],
   "id": "b72ddcc6ffa8f3e1",
   "outputs": [
    {
     "data": {
      "text/plain": [
       "-1"
      ]
     },
     "execution_count": 5,
     "metadata": {},
     "output_type": "execute_result"
    }
   ],
   "execution_count": 5
  },
  {
   "metadata": {
    "ExecuteTime": {
     "end_time": "2025-01-30T05:51:52.197029Z",
     "start_time": "2025-01-30T05:51:50.597083Z"
    }
   },
   "cell_type": "code",
   "source": [
    "matrix = np.ones ((600, 600), dtype=np.uint8) *255\n",
    "l = 50\n",
    " \n",
    "cv2.imshow('win', matrix)\n",
    "cv2.waitKey()"
   ],
   "id": "7a8ba19d003c20da",
   "outputs": [
    {
     "data": {
      "text/plain": [
       "-1"
      ]
     },
     "execution_count": 8,
     "metadata": {},
     "output_type": "execute_result"
    }
   ],
   "execution_count": 8
  },
  {
   "metadata": {
    "ExecuteTime": {
     "end_time": "2025-05-08T08:01:01.006189Z",
     "start_time": "2025-05-08T06:29:37.524914Z"
    }
   },
   "cell_type": "code",
   "source": [
    "import numpy as np\n",
    "import cv2\n",
    "matrix = np.ones ((600, 600), dtype=np.uint8) *255\n",
    "l = 50\n",
    "matrix[:, 0:l]=0\n",
    "matrix[:, l*2:l*3]=0\n",
    "matrix[:, l*4:l*5]=0\n",
    "matrix[:, l*6:l*7]=0\n",
    "matrix[:, l*8:l*9]=0\n",
    "matrix[:, l*10:l*11]=0\n",
    "\n",
    "cv2.imshow('win', matrix)\n",
    "cv2.waitKey()"
   ],
   "id": "3dbddf6f378cb2a7",
   "outputs": [
    {
     "data": {
      "text/plain": [
       "-1"
      ]
     },
     "execution_count": 3,
     "metadata": {},
     "output_type": "execute_result"
    }
   ],
   "execution_count": 3
  },
  {
   "metadata": {},
   "cell_type": "code",
   "source": [
    "import numpy as np\n",
    "import cv2\n",
    "def vertical_s(w1, w2, img_size):\n",
    "    img = np.ones((img_size, img_size), dtype=np.uint8)*255\n",
    "    for i in range(0, img_size, w1+w2):\n",
    "        img[:, i:i+w2] = 0\n",
    "    cv2.imshow('win', img)\n",
    "    cv2.waitKey()\n",
    "vertical_s(50,50, 600)"
   ],
   "id": "a503f20c830b9cfa",
   "outputs": [],
   "execution_count": null
  },
  {
   "metadata": {
    "ExecuteTime": {
     "end_time": "2025-02-01T05:47:13.025250Z",
     "start_time": "2025-02-01T05:47:03.044552Z"
    }
   },
   "cell_type": "code",
   "source": [
    "import numpy as np\n",
    "import cv2\n",
    "def centered_box(image_size=600, box_size=200):\n",
    "    img = np.zeros((image_size, image_size), dtype=np.uint8)\n",
    "    start = (image_size - box_size) // 2\n",
    "    img[start:start + box_size, start:start + box_size] = 255\n",
    "    cv2.imshow('win', img)\n",
    "    cv2.waitKey()\n",
    "    \n",
    "centered_box(600, 200)"
   ],
   "id": "dcd584ff32d215f0",
   "outputs": [],
   "execution_count": 4
  },
  {
   "metadata": {
    "ExecuteTime": {
     "end_time": "2025-02-01T05:58:51.757229Z",
     "start_time": "2025-02-01T05:57:46.964342Z"
    }
   },
   "cell_type": "code",
   "source": [
    "import numpy as np\n",
    "import cv2\n",
    "def vertical_s(w1, w2, img_size):\n",
    "    img = np.ones((img_size, img_size), dtype=np.uint8)*255\n",
    "    for i in range(w1, img_size, w1 + w2):\n",
    "        img[:, i:i + w2] = 0\n",
    "        img[i:i + w2, :] = 0\n",
    "    cv2.imshow('win', img)\n",
    "    cv2.waitKey()\n",
    "vertical_s(100,50, 550)"
   ],
   "id": "987e5941f22049ab",
   "outputs": [],
   "execution_count": 6
  },
  {
   "metadata": {},
   "cell_type": "code",
   "source": [
    "matrix = np.ones ((800, 800), dtype=np.uint8) *255\n",
    "l = 50\n",
    "\n",
    "matrix[:, l*3:l*4]=0\n",
    "matrix[:, l*7:l*8]=0\n",
    "matrix[:, l*11:l*12]=0\n",
    "\n",
    "\n",
    "matrix[l*3:l*4,:]=0\n",
    "matrix[ l*7:l*8,:]=0\n",
    "matrix[l*11:l*12,:]=0\n",
    "\n",
    "cv2.imshow('win', matrix)\n",
    "cv2.waitKey()"
   ],
   "id": "6658cdecd10d6a10",
   "outputs": [],
   "execution_count": null
  },
  {
   "metadata": {
    "ExecuteTime": {
     "end_time": "2025-05-08T06:13:06.589469Z",
     "start_time": "2025-05-08T06:13:05.772184Z"
    }
   },
   "cell_type": "code",
   "source": [
    "import cv2\n",
    "img=cv2.imread('D:\\\\2. DIP\\\\2. LAB\\\\pythonProject\\\\sikandar photo 2 .jpg')\n",
    "img = cv2.resize(img, (512,512))"
   ],
   "id": "de778ef8c9dddd31",
   "outputs": [
    {
     "ename": "error",
     "evalue": "OpenCV(4.11.0) D:\\a\\opencv-python\\opencv-python\\opencv\\modules\\imgproc\\src\\resize.cpp:4208: error: (-215:Assertion failed) !ssize.empty() in function 'cv::resize'\n",
     "output_type": "error",
     "traceback": [
      "\u001B[31m---------------------------------------------------------------------------\u001B[39m",
      "\u001B[31merror\u001B[39m                                     Traceback (most recent call last)",
      "\u001B[36mCell\u001B[39m\u001B[36m \u001B[39m\u001B[32mIn[1]\u001B[39m\u001B[32m, line 3\u001B[39m\n\u001B[32m      1\u001B[39m \u001B[38;5;28;01mimport\u001B[39;00m\u001B[38;5;250m \u001B[39m\u001B[34;01mcv2\u001B[39;00m\n\u001B[32m      2\u001B[39m img=cv2.imread(\u001B[33m'\u001B[39m\u001B[33mD:\u001B[39m\u001B[38;5;130;01m\\\\\u001B[39;00m\u001B[33m2. DIP\u001B[39m\u001B[38;5;130;01m\\\\\u001B[39;00m\u001B[33m2. LAB\u001B[39m\u001B[38;5;130;01m\\\\\u001B[39;00m\u001B[33mpythonProject\u001B[39m\u001B[38;5;130;01m\\\\\u001B[39;00m\u001B[33msikandar photo 2 .jpg\u001B[39m\u001B[33m'\u001B[39m)\n\u001B[32m----> \u001B[39m\u001B[32m3\u001B[39m img = \u001B[43mcv2\u001B[49m\u001B[43m.\u001B[49m\u001B[43mresize\u001B[49m\u001B[43m(\u001B[49m\u001B[43mimg\u001B[49m\u001B[43m,\u001B[49m\u001B[43m \u001B[49m\u001B[43m(\u001B[49m\u001B[32;43m512\u001B[39;49m\u001B[43m,\u001B[49m\u001B[32;43m512\u001B[39;49m\u001B[43m)\u001B[49m\u001B[43m)\u001B[49m\n",
      "\u001B[31merror\u001B[39m: OpenCV(4.11.0) D:\\a\\opencv-python\\opencv-python\\opencv\\modules\\imgproc\\src\\resize.cpp:4208: error: (-215:Assertion failed) !ssize.empty() in function 'cv::resize'\n"
     ]
    }
   ],
   "execution_count": 1
  },
  {
   "metadata": {},
   "cell_type": "code",
   "source": [
    "import numpy as np\n",
    "def downsample(img, ds_size):\n",
    "    rows = img.shape[0] // ds_size\n",
    "    cols = img.shape[1] // ds_size\n",
    "    \n",
    "    ds_img = np.zeros((rows, cols), dtype=np.uint8)\n",
    "    \n",
    "    for i in range(0, img.shape[0], 4):\n",
    "        for j in range(0, img.shape[1], 4):\n",
    "            ds_img = img[i,j]\n",
    "            \n",
    "    return ds_img\n",
    "ds_img = downsample(img, ds_size=4)\n",
    "cv2.imshow(\"Downsampled Image\", ds_img)\n",
    "cv2.waitKey()"
   ],
   "id": "8100f5a850dc9dea",
   "outputs": [],
   "execution_count": null
  },
  {
   "metadata": {
    "ExecuteTime": {
     "end_time": "2025-02-01T06:11:10.121824Z",
     "start_time": "2025-02-01T06:11:10.094322Z"
    }
   },
   "cell_type": "code",
   "source": "import cv2\n",
   "id": "4446737859101ce5",
   "outputs": [],
   "execution_count": 2
  },
  {
   "metadata": {
    "ExecuteTime": {
     "start_time": "2025-02-01T06:17:07.777216Z"
    }
   },
   "cell_type": "code",
   "source": [
    "import numpy as np\n",
    "import cv2\n",
    "\n",
    "def downsample(img, ds_size):\n",
    "    if img is None:\n",
    "        raise ValueError(\"img is not loaded.\")\n",
    "\n",
    "    rows = img.shape[0] // ds_size\n",
    "    cols = img.shape[1] // ds_size\n",
    "\n",
    "    ds_img = np.zeros((rows, cols), dtype=np.uint8)\n",
    "\n",
    "\n",
    "    for i in range(rows):\n",
    "        for j in range(cols):\n",
    "            x = min(i * ds_size, img.shape[0] - 1)  \n",
    "            y = min(j * ds_size, img.shape[1] - 1)\n",
    "            ds_img[i, j] = img[x, y] \n",
    "\n",
    "    return ds_img\n",
    "\n",
    "\n",
    "# Load image in **grayscale**\n",
    "img = cv2.imread(\"D:\\\\2. DIP\\\\2. LAB\\\\pythonProject\\\\sikandar photo 2 .jpg\", cv2.IMREAD_GRAYSCALE)\n",
    "\n",
    "if img is None:\n",
    "    raise ValueError(\"Error: Image not found!\")\n",
    "\n",
    "\n",
    "img = cv2.resize(img, (512, 512))\n",
    "\n",
    "ds_img = downsample(img, ds_size=4)\n",
    "\n",
    "print(\"downsampled img shape:\", ds_img.shape)\n",
    "cv2.imshow(\"Downsampled Image\", ds_img)\n",
    "cv2.waitKey(0)\n",
    "cv2.destroyAllWindows()\n"
   ],
   "id": "93ce91f91726b19",
   "outputs": [
    {
     "name": "stdout",
     "output_type": "stream",
     "text": [
      "downsampled img shape: (128, 128)\n"
     ]
    }
   ],
   "execution_count": null
  },
  {
   "metadata": {
    "ExecuteTime": {
     "end_time": "2025-02-01T06:31:12.778742Z",
     "start_time": "2025-02-01T06:23:37.621313Z"
    }
   },
   "cell_type": "code",
   "source": [
    "import numpy\n",
    "import numpy as np\n",
    "import cv2\n",
    "size = 650\n",
    "a = 50\n",
    "img = np.ones((size, size, 3), dtype=np.uint8) * 255\n",
    "img[0:a, 0:a] = [0,0,0]\n",
    "img[0:a,size-a:size] = [255,0,0]\n",
    "img[size-a:size, size-a:size] = [0,0,255]\n",
    "img[size-a:size,0:a] = [0,255,0]\n",
    "\n",
    "cv2.imshow('win', img)\n",
    "cv2.waitKey()"
   ],
   "id": "603b1c556fa25",
   "outputs": [
    {
     "data": {
      "text/plain": [
       "-1"
      ]
     },
     "execution_count": 2,
     "metadata": {},
     "output_type": "execute_result"
    }
   ],
   "execution_count": 2
  },
  {
   "metadata": {
    "ExecuteTime": {
     "end_time": "2025-01-30T06:28:56.486154Z",
     "start_time": "2025-01-30T06:28:56.388100Z"
    }
   },
   "cell_type": "code",
   "source": [
    "import cv2\n",
    "try:\n",
    "    img = cv2.imread(\"/lab1,2/lab1.png\", 0)\n",
    "except:\n",
    "    print(\"Image not loaded. Check the file path.\")\n",
    "\n",
    "rows, cols = img.shape\n",
    "img2 = img.copy()\n",
    "\n",
    "for i in range(rows//2, rows):\n",
    "    for j in range(cols//2, cols):\n",
    "        img2[i,j] = img[i-rows, j-cols]\n",
    "cv2.imshow('win', img2)"
   ],
   "id": "122c87795a30799e",
   "outputs": [],
   "execution_count": 39
  },
  {
   "metadata": {
    "ExecuteTime": {
     "end_time": "2025-02-01T06:33:14.858982Z",
     "start_time": "2025-02-01T06:33:12.944458Z"
    }
   },
   "cell_type": "code",
   "source": [
    "import cv2\n",
    "\n",
    "image = cv2.imread(\"lab1.png\", 0)\n",
    "\n",
    "\n",
    "height, width = image.shape\n",
    "\n",
    "\n",
    "for row in range(height // 2, height):\n",
    "    image[row, :] = image[height - row - 1, :]\n",
    "\n",
    "\n",
    "\n",
    "cv2.imshow(\"mirrored image\", image)\n",
    "cv2.waitKey(0)\n",
    "cv2.destroyAllWindows()\n"
   ],
   "id": "8923fcef984bc39e",
   "outputs": [],
   "execution_count": 4
  },
  {
   "metadata": {},
   "cell_type": "code",
   "outputs": [],
   "execution_count": null,
   "source": "",
   "id": "4b63ef3e509d0ea"
  },
  {
   "metadata": {
    "ExecuteTime": {
     "end_time": "2025-01-30T04:38:46.442316Z",
     "start_time": "2025-01-30T04:38:46.424862Z"
    }
   },
   "cell_type": "code",
   "source": [
    "r = 5\n",
    "c = 5\n",
    "l = 5\n",
    "m = 5\n",
    "matrix1 = np.ones((r+l+l, c+l+l), dtype=np.uint8) \n",
    "\n",
    "for i in range(0, l):\n",
    "    for j in range(0, c+l+l):\n",
    "        matrix1[i,j] = 0\n",
    "       \n",
    "for i in range(0, l):\n",
    "    for j in range(0, c+l+l):\n",
    "        matrix1[i,j] = 0\n",
    "        \n",
    "for i in range(0, l):\n",
    "   for j in range(0, c+l+l):\n",
    "       matrix1[i,j] = 0\n",
    "       \n",
    "for i in range(0, l):\n",
    "   for j in range(0, c+l+l):\n",
    "       matrix1[i,j] = 0\n",
    "       \n",
    "\n",
    "matrix1"
   ],
   "id": "5dc949dea641689b",
   "outputs": [
    {
     "data": {
      "text/plain": [
       "array([[0, 0, 0, 0, 0, 0, 0, 0, 0, 0, 0, 0, 0, 0, 0],\n",
       "       [0, 0, 0, 0, 0, 0, 0, 0, 0, 0, 0, 0, 0, 0, 0],\n",
       "       [0, 0, 0, 0, 0, 0, 0, 0, 0, 0, 0, 0, 0, 0, 0],\n",
       "       [0, 0, 0, 0, 0, 0, 0, 0, 0, 0, 0, 0, 0, 0, 0],\n",
       "       [0, 0, 0, 0, 0, 0, 0, 0, 0, 0, 0, 0, 0, 0, 0],\n",
       "       [1, 1, 1, 1, 1, 1, 1, 1, 1, 1, 1, 1, 1, 1, 1],\n",
       "       [1, 1, 1, 1, 1, 1, 1, 1, 1, 1, 1, 1, 1, 1, 1],\n",
       "       [1, 1, 1, 1, 1, 1, 1, 1, 1, 1, 1, 1, 1, 1, 1],\n",
       "       [1, 1, 1, 1, 1, 1, 1, 1, 1, 1, 1, 1, 1, 1, 1],\n",
       "       [1, 1, 1, 1, 1, 1, 1, 1, 1, 1, 1, 1, 1, 1, 1],\n",
       "       [1, 1, 1, 1, 1, 1, 1, 1, 1, 1, 1, 1, 1, 1, 1],\n",
       "       [1, 1, 1, 1, 1, 1, 1, 1, 1, 1, 1, 1, 1, 1, 1],\n",
       "       [1, 1, 1, 1, 1, 1, 1, 1, 1, 1, 1, 1, 1, 1, 1],\n",
       "       [1, 1, 1, 1, 1, 1, 1, 1, 1, 1, 1, 1, 1, 1, 1],\n",
       "       [1, 1, 1, 1, 1, 1, 1, 1, 1, 1, 1, 1, 1, 1, 1]], dtype=uint8)"
      ]
     },
     "execution_count": 44,
     "metadata": {},
     "output_type": "execute_result"
    }
   ],
   "execution_count": 44
  },
  {
   "metadata": {
    "ExecuteTime": {
     "end_time": "2025-01-30T04:16:12.922954Z",
     "start_time": "2025-01-30T04:16:12.893677Z"
    }
   },
   "cell_type": "code",
   "source": [
    "for i in range(0, c+l):\n",
    "    for j in range(c+2, c+2*l):\n",
    "        matrix1[i,j] = 0\n",
    "        \n",
    "for i in range(0, r+l):\n",
    "    for j in range(0, l):\n",
    "        matrix1[i,j] = 0\n",
    "        \n",
    "for i in range(r+l, r+l+l):\n",
    "    for j in range(0, c+2):\n",
    "        matrix1[i,j] = 0\n",
    "np.concatenate((pad,(np.concatenate ((matrix, pad),axis= 1))), axis = 1) "
   ],
   "id": "6f43a8472725d815",
   "outputs": [
    {
     "data": {
      "text/plain": [
       "array([[0, 0, 0, 0, 0, 0, 0, 0, 0, 0, 1, 1, 1, 1, 1, 1, 1, 1, 1, 1, 1, 1,\n",
       "        1, 1, 1, 1, 1, 1, 1, 1, 0, 0, 0, 0, 0, 0, 0, 0, 0, 0],\n",
       "       [0, 0, 0, 0, 0, 0, 0, 0, 0, 0, 1, 1, 1, 1, 1, 1, 1, 1, 1, 1, 1, 1,\n",
       "        1, 1, 1, 1, 1, 1, 1, 1, 0, 0, 0, 0, 0, 0, 0, 0, 0, 0],\n",
       "       [0, 0, 0, 0, 0, 0, 0, 0, 0, 0, 1, 1, 1, 1, 1, 1, 1, 1, 1, 1, 1, 1,\n",
       "        1, 1, 1, 1, 1, 1, 1, 1, 0, 0, 0, 0, 0, 0, 0, 0, 0, 0],\n",
       "       [0, 0, 0, 0, 0, 0, 0, 0, 0, 0, 1, 1, 1, 1, 1, 1, 1, 1, 1, 1, 1, 1,\n",
       "        1, 1, 1, 1, 1, 1, 1, 1, 0, 0, 0, 0, 0, 0, 0, 0, 0, 0],\n",
       "       [0, 0, 0, 0, 0, 0, 0, 0, 0, 0, 1, 1, 1, 1, 1, 1, 1, 1, 1, 1, 1, 1,\n",
       "        1, 1, 1, 1, 1, 1, 1, 1, 0, 0, 0, 0, 0, 0, 0, 0, 0, 0],\n",
       "       [0, 0, 0, 0, 0, 0, 0, 0, 0, 0, 1, 1, 1, 1, 1, 1, 1, 1, 1, 1, 1, 1,\n",
       "        1, 1, 1, 1, 1, 1, 1, 1, 0, 0, 0, 0, 0, 0, 0, 0, 0, 0],\n",
       "       [0, 0, 0, 0, 0, 0, 0, 0, 0, 0, 1, 1, 1, 1, 1, 1, 1, 1, 1, 1, 1, 1,\n",
       "        1, 1, 1, 1, 1, 1, 1, 1, 0, 0, 0, 0, 0, 0, 0, 0, 0, 0],\n",
       "       [0, 0, 0, 0, 0, 0, 0, 0, 0, 0, 1, 1, 1, 1, 1, 1, 1, 1, 1, 1, 1, 1,\n",
       "        1, 1, 1, 1, 1, 1, 1, 1, 0, 0, 0, 0, 0, 0, 0, 0, 0, 0],\n",
       "       [0, 0, 0, 0, 0, 0, 0, 0, 0, 0, 1, 1, 1, 1, 1, 1, 1, 1, 1, 1, 1, 1,\n",
       "        1, 1, 1, 1, 1, 1, 1, 1, 0, 0, 0, 0, 0, 0, 0, 0, 0, 0],\n",
       "       [0, 0, 0, 0, 0, 0, 0, 0, 0, 0, 1, 1, 1, 1, 1, 1, 1, 1, 1, 1, 1, 1,\n",
       "        1, 1, 1, 1, 1, 1, 1, 1, 0, 0, 0, 0, 0, 0, 0, 0, 0, 0],\n",
       "       [0, 0, 0, 0, 0, 0, 0, 0, 0, 0, 1, 1, 1, 1, 1, 1, 1, 1, 1, 1, 1, 1,\n",
       "        1, 1, 1, 1, 1, 1, 1, 1, 0, 0, 0, 0, 0, 0, 0, 0, 0, 0],\n",
       "       [0, 0, 0, 0, 0, 0, 0, 0, 0, 0, 1, 1, 1, 1, 1, 1, 1, 1, 1, 1, 1, 1,\n",
       "        1, 1, 1, 1, 1, 1, 1, 1, 0, 0, 0, 0, 0, 0, 0, 0, 0, 0],\n",
       "       [0, 0, 0, 0, 0, 0, 0, 0, 0, 0, 1, 1, 1, 1, 1, 1, 1, 1, 1, 1, 1, 1,\n",
       "        1, 1, 1, 1, 1, 1, 1, 1, 0, 0, 0, 0, 0, 0, 0, 0, 0, 0],\n",
       "       [0, 0, 0, 0, 0, 0, 0, 0, 0, 0, 1, 1, 1, 1, 1, 1, 1, 1, 1, 1, 1, 1,\n",
       "        1, 1, 1, 1, 1, 1, 1, 1, 0, 0, 0, 0, 0, 0, 0, 0, 0, 0],\n",
       "       [0, 0, 0, 0, 0, 0, 0, 0, 0, 0, 1, 1, 1, 1, 1, 1, 1, 1, 1, 1, 1, 1,\n",
       "        1, 1, 1, 1, 1, 1, 1, 1, 0, 0, 0, 0, 0, 0, 0, 0, 0, 0],\n",
       "       [0, 0, 0, 0, 0, 0, 0, 0, 0, 0, 1, 1, 1, 1, 1, 1, 1, 1, 1, 1, 1, 1,\n",
       "        1, 1, 1, 1, 1, 1, 1, 1, 0, 0, 0, 0, 0, 0, 0, 0, 0, 0],\n",
       "       [0, 0, 0, 0, 0, 0, 0, 0, 0, 0, 1, 1, 1, 1, 1, 1, 1, 1, 1, 1, 1, 1,\n",
       "        1, 1, 1, 1, 1, 1, 1, 1, 0, 0, 0, 0, 0, 0, 0, 0, 0, 0],\n",
       "       [0, 0, 0, 0, 0, 0, 0, 0, 0, 0, 1, 1, 1, 1, 1, 1, 1, 1, 1, 1, 1, 1,\n",
       "        1, 1, 1, 1, 1, 1, 1, 1, 0, 0, 0, 0, 0, 0, 0, 0, 0, 0],\n",
       "       [0, 0, 0, 0, 0, 0, 0, 0, 0, 0, 1, 1, 1, 1, 1, 1, 1, 1, 1, 1, 1, 1,\n",
       "        1, 1, 1, 1, 1, 1, 1, 1, 0, 0, 0, 0, 0, 0, 0, 0, 0, 0],\n",
       "       [0, 0, 0, 0, 0, 0, 0, 0, 0, 0, 1, 1, 1, 1, 1, 1, 1, 1, 1, 1, 1, 1,\n",
       "        1, 1, 1, 1, 1, 1, 1, 1, 0, 0, 0, 0, 0, 0, 0, 0, 0, 0]],\n",
       "      dtype=uint8)"
      ]
     },
     "execution_count": 28,
     "metadata": {},
     "output_type": "execute_result"
    }
   ],
   "execution_count": 28
  },
  {
   "metadata": {
    "ExecuteTime": {
     "end_time": "2025-01-30T05:13:56.504904Z",
     "start_time": "2025-01-30T05:13:56.498058Z"
    }
   },
   "cell_type": "code",
   "source": "import cv2 ",
   "id": "2b05f5ecf6af0108",
   "outputs": [],
   "execution_count": 2
  },
  {
   "metadata": {},
   "cell_type": "code",
   "outputs": [],
   "execution_count": null,
   "source": [
    "\n",
    "print(cv2.__version__)  # To check if OpenCV is installed correctly\n"
   ],
   "id": "37d1c53e79df3d74"
  }
 ],
 "metadata": {
  "kernelspec": {
   "display_name": "Python 3",
   "language": "python",
   "name": "python3"
  },
  "language_info": {
   "codemirror_mode": {
    "name": "ipython",
    "version": 2
   },
   "file_extension": ".py",
   "mimetype": "text/x-python",
   "name": "python",
   "nbconvert_exporter": "python",
   "pygments_lexer": "ipython2",
   "version": "2.7.6"
  }
 },
 "nbformat": 4,
 "nbformat_minor": 5
}
