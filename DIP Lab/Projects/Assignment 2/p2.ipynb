{
 "cells": [
  {
   "cell_type": "code",
   "id": "initial_id",
   "metadata": {
    "collapsed": true,
    "ExecuteTime": {
     "end_time": "2025-04-19T17:59:02.302055Z",
     "start_time": "2025-04-19T17:59:01.681586Z"
    }
   },
   "source": [
    "import cv2\n",
    "import numpy as np\n",
    "import pandas as pd\n",
    "import os\n",
    "\n",
    "# Image Paths\n",
    "images = {\n",
    "    \"Basophil\": r\"E:\\2. DIP\\2. LAB\\pythonProject\\Projects\\Assignment 2\\wbc_data\\Train\\Basophil\\Basophil_1.jpg\",\n",
    "    \"Eosinophil\": r\"E:\\2. DIP\\2. LAB\\pythonProject\\Projects\\Assignment 2\\wbc_data\\Train\\Eosinophil\\Eosinophil_1.jpg\",\n",
    "    \"Lymphocyte\": r\"E:\\2. DIP\\2. LAB\\pythonProject\\Projects\\Assignment 2\\wbc_data\\Train\\Lymphocyte\\Lymphocyte_1.jpg\",\n",
    "    \"Monocyte\": r\"E:\\2. DIP\\2. LAB\\pythonProject\\Projects\\Assignment 2\\wbc_data\\Train\\Monocyte\\Monocyte_1.jpg\",\n",
    "    \"Neutrophil\": r\"E:\\2. DIP\\2. LAB\\pythonProject\\Projects\\Assignment 2\\wbc_data\\Train\\Neutrophil\\Neutrophil_1.jpg\"\n",
    "}\n",
    "\n",
    "# Helper: Extract shape features from a contour\n",
    "def shape_features(contour):\n",
    "    area = cv2.contourArea(contour)\n",
    "    perimeter = cv2.arcLength(contour, True)\n",
    "    x, y, w, h = cv2.boundingRect(contour)\n",
    "    aspect_ratio = float(w) / h\n",
    "    extent = area / (w * h)\n",
    "    hull = cv2.convexHull(contour)\n",
    "    hull_area = cv2.contourArea(hull)\n",
    "    solidity = area / hull_area if hull_area != 0 else 0\n",
    "    circularity = (4 * np.pi * area / (perimeter ** 2)) if perimeter != 0 else 0\n",
    "    return area, aspect_ratio, extent, solidity, circularity\n",
    "\n",
    "# Main feature table\n",
    "data = []\n",
    "\n",
    "for label, path in images.items():\n",
    "    img = cv2.imread(path)\n",
    "    img = cv2.resize(img, (128, 128))\n",
    "    gray = cv2.cvtColor(img, cv2.COLOR_BGR2GRAY)\n",
    "    hsv = cv2.cvtColor(img, cv2.COLOR_BGR2HSV)\n",
    "\n",
    "    # Segment nucleus using thresholding\n",
    "    blur = cv2.GaussianBlur(gray, (5, 5), 0)\n",
    "    _, binary = cv2.threshold(blur, 0, 255, cv2.THRESH_BINARY + cv2.THRESH_OTSU)\n",
    "    mask_nucleus = cv2.bitwise_not(binary)\n",
    "\n",
    "    contours, _ = cv2.findContours(mask_nucleus, cv2.RETR_EXTERNAL, cv2.CHAIN_APPROX_SIMPLE)\n",
    "\n",
    "    # Default values\n",
    "    nucleus_area = 0\n",
    "    aspect_ratio = extent = solidity = circularity = lobes_estimate = 0\n",
    "\n",
    "    if contours:\n",
    "        largest = max(contours, key=cv2.contourArea)\n",
    "        nucleus_area, aspect_ratio, extent, solidity, circularity = shape_features(largest)\n",
    "        lobes_estimate = len(contours)\n",
    "\n",
    "    # Cytoplasm mask (inverse)\n",
    "    mask_cytoplasm = cv2.bitwise_not(mask_nucleus)\n",
    "\n",
    "    # Mean colors (HSV)\n",
    "    mean_hsv_img = cv2.mean(hsv)[:3]\n",
    "    mean_hsv_nucleus = cv2.mean(hsv, mask_nucleus)[:3]\n",
    "    mean_hsv_cytoplasm = cv2.mean(hsv, mask_cytoplasm)[:3]\n",
    "\n",
    "    # Area analysis\n",
    "    total_area = 128 * 128\n",
    "    cytoplasm_area = total_area - nucleus_area\n",
    "    nucleus_to_cell_ratio = nucleus_area / total_area\n",
    "    cytoplasm_to_cell_ratio = cytoplasm_area / total_area\n",
    "\n",
    "    # Save features\n",
    "    data.append({\n",
    "        \"Class\": label,\n",
    "        \"Nucleus_Area\": nucleus_area,\n",
    "        \"Cytoplasm_Area\": cytoplasm_area,\n",
    "        \"Nucleus/Cell_Ratio\": nucleus_to_cell_ratio,\n",
    "        \"Cytoplasm/Cell_Ratio\": cytoplasm_to_cell_ratio,\n",
    "        \"Aspect_Ratio\": aspect_ratio,\n",
    "        \"Extent\": extent,\n",
    "        \"Solidity\": solidity,\n",
    "        \"Circularity\": circularity,\n",
    "        \"Estimated_Lobes\": lobes_estimate,\n",
    "        \"HSV_H_Total\": mean_hsv_img[0],\n",
    "        \"HSV_S_Total\": mean_hsv_img[1],\n",
    "        \"HSV_V_Total\": mean_hsv_img[2],\n",
    "        \"HSV_H_Nucleus\": mean_hsv_nucleus[0],\n",
    "        \"HSV_S_Nucleus\": mean_hsv_nucleus[1],\n",
    "        \"HSV_V_Nucleus\": mean_hsv_nucleus[2],\n",
    "        \"HSV_H_Cytoplasm\": mean_hsv_cytoplasm[0],\n",
    "        \"HSV_S_Cytoplasm\": mean_hsv_cytoplasm[1],\n",
    "        \"HSV_V_Cytoplasm\": mean_hsv_cytoplasm[2],\n",
    "    })\n",
    "\n",
    "# Create DataFrame\n",
    "df = pd.DataFrame(data)\n",
    "print(df)\n",
    "\n",
    "# Save CSV\n",
    "df.to_csv(\"wbc_features_updated.csv\", index=False)\n"
   ],
   "outputs": [
    {
     "name": "stdout",
     "output_type": "stream",
     "text": [
      "        Class  Nucleus_Area  Cytoplasm_Area  Nucleus/Cell_Ratio  \\\n",
      "0    Basophil        4879.0         11505.0            0.297791   \n",
      "1  Eosinophil        6003.5         10380.5            0.366425   \n",
      "2  Lymphocyte        5906.0         10478.0            0.360474   \n",
      "3    Monocyte        3114.5         13269.5            0.190094   \n",
      "4  Neutrophil        4910.0         11474.0            0.299683   \n",
      "\n",
      "   Cytoplasm/Cell_Ratio  Aspect_Ratio    Extent  Solidity  Circularity  \\\n",
      "0              0.702209      1.000000  0.410656  0.612286     0.161750   \n",
      "1              0.633575      0.921053  0.501546  0.693886     0.223163   \n",
      "2              0.639526      0.867188  0.415681  0.534697     0.154788   \n",
      "3              0.809906      0.614583  0.549876  0.818528     0.421179   \n",
      "4              0.700317      1.270588  0.534858  0.654318     0.164512   \n",
      "\n",
      "   Estimated_Lobes  HSV_H_Total  HSV_S_Total  HSV_V_Total  HSV_H_Nucleus  \\\n",
      "0                6    68.177917    65.512207   166.023682     128.838372   \n",
      "1                7    79.658630    79.844482   184.662781     166.857456   \n",
      "2               10   105.637207    71.702759   176.578247     153.743320   \n",
      "3               14   114.111206    85.448730   186.615112     164.223444   \n",
      "4                6    91.085571    74.970337   187.421875     159.815149   \n",
      "\n",
      "   HSV_S_Nucleus  HSV_V_Nucleus  HSV_H_Cytoplasm  HSV_S_Cytoplasm  \\\n",
      "0      81.014887     135.531065        27.434343        55.099582   \n",
      "1     100.332847     150.553819        17.055049        65.135053   \n",
      "2      90.553440     144.843152        39.150334        45.649462   \n",
      "3     103.984129     158.949779        55.663493        63.830226   \n",
      "4      97.410408     145.066340        29.196265        54.763601   \n",
      "\n",
      "   HSV_V_Cytoplasm  \n",
      "0       186.504540  \n",
      "1       209.150991  \n",
      "2       220.438936  \n",
      "3       218.882190  \n",
      "4       225.562000  \n"
     ]
    }
   ],
   "execution_count": 29
  },
  {
   "metadata": {
    "ExecuteTime": {
     "end_time": "2025-04-19T17:13:19.969486Z",
     "start_time": "2025-04-19T17:13:19.902346Z"
    }
   },
   "cell_type": "code",
   "source": [
    "# Group by Class and get mean and range for each feature\n",
    "stats = df.groupby(\"Class\").agg(['mean', 'min', 'max', 'std'])\n",
    "\n",
    "# Print selected important features for inspection\n",
    "features_of_interest = [\n",
    "    \"Circularity\", \"Estimated_Lobes\", \"Nucleus/Cell_Ratio\",\n",
    "    \"HSV_H_Nucleus\", \"HSV_S_Nucleus\", \"HSV_H_Cytoplasm\", \"HSV_S_Cytoplasm\"\n",
    "]\n",
    "\n",
    "\n",
    "print(stats.loc[:, features_of_interest])\n"
   ],
   "id": "c11be8e6095ca89a",
   "outputs": [
    {
     "name": "stdout",
     "output_type": "stream",
     "text": [
      "           Circularity                         Estimated_Lobes              \\\n",
      "                  mean       min       max std            mean min max std   \n",
      "Class                                                                        \n",
      "Basophil      0.161750  0.161750  0.161750 NaN             6.0   6   6 NaN   \n",
      "Eosinophil    0.223163  0.223163  0.223163 NaN             7.0   7   7 NaN   \n",
      "Lymphocyte    0.154788  0.154788  0.154788 NaN            10.0  10  10 NaN   \n",
      "Monocyte      0.421179  0.421179  0.421179 NaN            14.0  14  14 NaN   \n",
      "Neutrophil    0.164512  0.164512  0.164512 NaN             6.0   6   6 NaN   \n",
      "\n",
      "           Nucleus/Cell_Ratio            ... HSV_S_Nucleus      \\\n",
      "                         mean       min  ...           max std   \n",
      "Class                                    ...                     \n",
      "Basophil             0.297791  0.297791  ...     81.014887 NaN   \n",
      "Eosinophil           0.366425  0.366425  ...    100.332847 NaN   \n",
      "Lymphocyte           0.360474  0.360474  ...     90.553440 NaN   \n",
      "Monocyte             0.190094  0.190094  ...    103.984129 NaN   \n",
      "Neutrophil           0.299683  0.299683  ...     97.410408 NaN   \n",
      "\n",
      "           HSV_H_Cytoplasm                           HSV_S_Cytoplasm  \\\n",
      "                      mean        min        max std            mean   \n",
      "Class                                                                  \n",
      "Basophil         27.434343  27.434343  27.434343 NaN       55.099582   \n",
      "Eosinophil       17.055049  17.055049  17.055049 NaN       65.135053   \n",
      "Lymphocyte       39.150334  39.150334  39.150334 NaN       45.649462   \n",
      "Monocyte         55.663493  55.663493  55.663493 NaN       63.830226   \n",
      "Neutrophil       29.196265  29.196265  29.196265 NaN       54.763601   \n",
      "\n",
      "                                      \n",
      "                  min        max std  \n",
      "Class                                 \n",
      "Basophil    55.099582  55.099582 NaN  \n",
      "Eosinophil  65.135053  65.135053 NaN  \n",
      "Lymphocyte  45.649462  45.649462 NaN  \n",
      "Monocyte    63.830226  63.830226 NaN  \n",
      "Neutrophil  54.763601  54.763601 NaN  \n",
      "\n",
      "[5 rows x 28 columns]\n"
     ]
    }
   ],
   "execution_count": 2
  },
  {
   "metadata": {
    "ExecuteTime": {
     "end_time": "2025-04-19T17:13:53.672245Z",
     "start_time": "2025-04-19T17:13:53.638011Z"
    }
   },
   "cell_type": "code",
   "source": [
    "features_of_interest = [\n",
    "    \"Circularity\", \"Estimated_Lobes\", \"Nucleus/Cell_Ratio\",\n",
    "    \"HSV_H_Nucleus\", \"HSV_S_Nucleus\", \"HSV_H_Cytoplasm\", \"HSV_S_Cytoplasm\"\n",
    "]\n",
    "\n",
    "# Grouped statistics\n",
    "stats = df.groupby(\"Class\")[features_of_interest].agg(['mean', 'min', 'max'])\n",
    "print(stats)\n"
   ],
   "id": "733b767368a3b345",
   "outputs": [
    {
     "name": "stdout",
     "output_type": "stream",
     "text": [
      "           Circularity                     Estimated_Lobes          \\\n",
      "                  mean       min       max            mean min max   \n",
      "Class                                                                \n",
      "Basophil      0.161750  0.161750  0.161750             6.0   6   6   \n",
      "Eosinophil    0.223163  0.223163  0.223163             7.0   7   7   \n",
      "Lymphocyte    0.154788  0.154788  0.154788            10.0  10  10   \n",
      "Monocyte      0.421179  0.421179  0.421179            14.0  14  14   \n",
      "Neutrophil    0.164512  0.164512  0.164512             6.0   6   6   \n",
      "\n",
      "           Nucleus/Cell_Ratio                     HSV_H_Nucleus  ...  \\\n",
      "                         mean       min       max          mean  ...   \n",
      "Class                                                            ...   \n",
      "Basophil             0.297791  0.297791  0.297791    128.838372  ...   \n",
      "Eosinophil           0.366425  0.366425  0.366425    166.857456  ...   \n",
      "Lymphocyte           0.360474  0.360474  0.360474    153.743320  ...   \n",
      "Monocyte             0.190094  0.190094  0.190094    164.223444  ...   \n",
      "Neutrophil           0.299683  0.299683  0.299683    159.815149  ...   \n",
      "\n",
      "                       HSV_S_Nucleus                         HSV_H_Cytoplasm  \\\n",
      "                   max          mean         min         max            mean   \n",
      "Class                                                                          \n",
      "Basophil    128.838372     81.014887   81.014887   81.014887       27.434343   \n",
      "Eosinophil  166.857456    100.332847  100.332847  100.332847       17.055049   \n",
      "Lymphocyte  153.743320     90.553440   90.553440   90.553440       39.150334   \n",
      "Monocyte    164.223444    103.984129  103.984129  103.984129       55.663493   \n",
      "Neutrophil  159.815149     97.410408   97.410408   97.410408       29.196265   \n",
      "\n",
      "                                 HSV_S_Cytoplasm                        \n",
      "                  min        max            mean        min        max  \n",
      "Class                                                                   \n",
      "Basophil    27.434343  27.434343       55.099582  55.099582  55.099582  \n",
      "Eosinophil  17.055049  17.055049       65.135053  65.135053  65.135053  \n",
      "Lymphocyte  39.150334  39.150334       45.649462  45.649462  45.649462  \n",
      "Monocyte    55.663493  55.663493       63.830226  63.830226  63.830226  \n",
      "Neutrophil  29.196265  29.196265       54.763601  54.763601  54.763601  \n",
      "\n",
      "[5 rows x 21 columns]\n"
     ]
    }
   ],
   "execution_count": 3
  },
  {
   "metadata": {
    "ExecuteTime": {
     "end_time": "2025-04-19T17:14:43.486676Z",
     "start_time": "2025-04-19T17:14:43.471243Z"
    }
   },
   "cell_type": "code",
   "source": [
    "def classify_cell(features):\n",
    "    circ = features['Circularity']\n",
    "    lobes = features['Estimated_Lobes']\n",
    "    nuc_ratio = features['Nucleus/Cell_Ratio']\n",
    "    h_nuc = features['HSV_H_Nucleus']\n",
    "    h_cyt = features['HSV_H_Cytoplasm']\n",
    "    s_cyt = features['HSV_S_Cytoplasm']\n",
    "\n",
    "    # Monocyte: large, roundish, pale cytoplasm, low Nucleus ratio\n",
    "    if circ > 0.35 and lobes >= 12 and nuc_ratio < 0.25:\n",
    "        return \"Monocyte\"\n",
    "\n",
    "    # Lymphocyte: small round nucleus, high lobes, high nucleus ratio\n",
    "    elif lobes >= 9 and nuc_ratio >= 0.35 and circ < 0.2:\n",
    "        return \"Lymphocyte\"\n",
    "\n",
    "    # Eosinophil: red-orange granules → low hue in cytoplasm, high sat\n",
    "    elif h_cyt < 20 and s_cyt > 60 and h_nuc > 160:\n",
    "        return \"Eosinophil\"\n",
    "\n",
    "    # Basophil: purple-blue cytoplasm → mid hue, medium lobes\n",
    "    elif 120 < h_nuc < 140 and 20 < h_cyt < 35 and lobes <= 6:\n",
    "        return \"Basophil\"\n",
    "\n",
    "    # Neutrophil: mid-range features, 5–6 lobes, nucleus ratio ~0.3\n",
    "    elif 5 <= lobes <= 6 and 0.28 <= nuc_ratio <= 0.32 and 150 < h_nuc < 165:\n",
    "        return \"Neutrophil\"\n",
    "\n",
    "    return \"Unknown\"\n"
   ],
   "id": "aa935488b5ad4ea5",
   "outputs": [],
   "execution_count": 4
  },
  {
   "metadata": {
    "ExecuteTime": {
     "end_time": "2025-04-19T17:23:43.446171Z",
     "start_time": "2025-04-19T17:23:43.385621Z"
    }
   },
   "cell_type": "code",
   "source": [
    "import cv2\n",
    "import numpy as np\n",
    "\n",
    "def extract_features(image_path):\n",
    "    def shape_features(contour):\n",
    "        area = cv2.contourArea(contour)\n",
    "        perimeter = cv2.arcLength(contour, True)\n",
    "        x, y, w, h = cv2.boundingRect(contour)\n",
    "        aspect_ratio = float(w) / h\n",
    "        extent = area / (w * h)\n",
    "        hull = cv2.convexHull(contour)\n",
    "        hull_area = cv2.contourArea(hull)\n",
    "        solidity = area / hull_area if hull_area != 0 else 0\n",
    "        circularity = (4 * np.pi * area / (perimeter ** 2)) if perimeter != 0 else 0\n",
    "        return area, aspect_ratio, extent, solidity, circularity\n",
    "\n",
    "    img = cv2.imread(image_path)\n",
    "    if img is None:\n",
    "        raise FileNotFoundError(f\"❌ Could not load image at path: {image_path}\")\n",
    "\n",
    "    img = cv2.resize(img, (128, 128))\n",
    "    gray = cv2.cvtColor(img, cv2.COLOR_BGR2GRAY)\n",
    "    hsv = cv2.cvtColor(img, cv2.COLOR_BGR2HSV)\n",
    "\n",
    "    blur = cv2.GaussianBlur(gray, (5, 5), 0)\n",
    "    _, binary = cv2.threshold(blur, 0, 255, cv2.THRESH_BINARY + cv2.THRESH_OTSU)\n",
    "    mask_nucleus = cv2.bitwise_not(binary)\n",
    "\n",
    "    contours, _ = cv2.findContours(mask_nucleus, cv2.RETR_EXTERNAL, cv2.CHAIN_APPROX_SIMPLE)\n",
    "\n",
    "    nucleus_area = 0\n",
    "    aspect_ratio = extent = solidity = circularity = lobes_estimate = 0\n",
    "\n",
    "    if contours:\n",
    "        largest = max(contours, key=cv2.contourArea)\n",
    "        nucleus_area, aspect_ratio, extent, solidity, circularity = shape_features(largest)\n",
    "        lobes_estimate = len(contours)\n",
    "\n",
    "    mask_cytoplasm = cv2.bitwise_not(mask_nucleus)\n",
    "    mean_hsv_nucleus = cv2.mean(hsv, mask_nucleus)[:3]\n",
    "    mean_hsv_cytoplasm = cv2.mean(hsv, mask_cytoplasm)[:3]\n",
    "\n",
    "    total_area = 128 * 128\n",
    "    nucleus_ratio = nucleus_area / total_area\n",
    "\n",
    "    return {\n",
    "        'Circularity': circularity,\n",
    "        'Estimated_Lobes': lobes_estimate,\n",
    "        'Nucleus/Cell_Ratio': nucleus_ratio,\n",
    "        'HSV_H_Nucleus': mean_hsv_nucleus[0],\n",
    "        'HSV_S_Nucleus': mean_hsv_nucleus[1],\n",
    "        'HSV_H_Cytoplasm': mean_hsv_cytoplasm[0],\n",
    "        'HSV_S_Cytoplasm': mean_hsv_cytoplasm[1]\n",
    "    }\n",
    "\n",
    "def classify_cell(features):\n",
    "    circ = features['Circularity']\n",
    "    lobes = features['Estimated_Lobes']\n",
    "    nuc_ratio = features['Nucleus/Cell_Ratio']\n",
    "    h_nuc = features['HSV_H_Nucleus']\n",
    "    h_cyt = features['HSV_H_Cytoplasm']\n",
    "    s_cyt = features['HSV_S_Cytoplasm']\n",
    "\n",
    "    # Monocyte: high circularity, high lobes, low nucleus ratio\n",
    "    if circ > 0.35 and lobes >= 12 and nuc_ratio < 0.25:\n",
    "        return \"Monocyte\"\n",
    "\n",
    "    # Lymphocyte: small round nucleus, high lobes, high nucleus ratio\n",
    "    elif lobes >= 9 and nuc_ratio >= 0.35 and circ < 0.25:\n",
    "        return \"Lymphocyte\"\n",
    "\n",
    "    # Eosinophil: reddish cytoplasm (low hue, high sat), high nucleus hue\n",
    "    elif h_cyt < 30 and s_cyt > 55 and h_nuc > 160:\n",
    "        return \"Eosinophil\"\n",
    "\n",
    "    # Basophil: purple nucleus, bluish cytoplasm, low circularity\n",
    "    elif 120 < h_nuc < 140 and 25 < h_cyt < 45 and lobes <= 7 and circ < 0.3:\n",
    "        return \"Basophil\"\n",
    "\n",
    "    # Neutrophil: lobes 5–7, nucleus ratio ~0.3, nucleus hue mid range\n",
    "    elif 5 <= lobes <= 7 and 0.28 <= nuc_ratio <= 0.34 and 130 < h_nuc < 160:\n",
    "        return \"Neutrophil\"\n",
    "\n",
    "    return \"Unknown\"\n",
    "\n",
    "# 🔍 Usage Example\n",
    "test_image_path = r\"E:\\2. DIP\\2. LAB\\pythonProject\\Projects\\Assignment 2\\wbc_data\\Train\\Eosinophil\\Eosinophil_1.jpg\"\n",
    "features = extract_features(test_image_path)\n",
    "print(features)\n",
    "predicted_class = classify_cell(features)\n",
    "\n",
    "print(\"Predicted Class:\", predicted_class)\n"
   ],
   "id": "bf04482fc22da246",
   "outputs": [
    {
     "name": "stdout",
     "output_type": "stream",
     "text": [
      "{'Circularity': 0.22316277687124306, 'Estimated_Lobes': 7, 'Nucleus/Cell_Ratio': 0.366424560546875, 'HSV_H_Nucleus': 166.85745582006717, 'HSV_S_Nucleus': 100.3328465021177, 'HSV_H_Cytoplasm': 17.055048757470903, 'HSV_S_Cytoplasm': 65.13505295166195}\n",
      "Predicted Class: Eosinophil\n"
     ]
    }
   ],
   "execution_count": 19
  },
  {
   "metadata": {
    "ExecuteTime": {
     "end_time": "2025-04-19T17:23:44.701191Z",
     "start_time": "2025-04-19T17:23:44.648865Z"
    }
   },
   "cell_type": "code",
   "source": [
    "import math\n",
    "\n",
    "def euclidean_distance(f1, f2, keys):\n",
    "    return math.sqrt(sum((f1[k] - f2[k]) ** 2 for k in keys))\n",
    "\n",
    "def classify_cell_with_fallback(features, class_means):\n",
    "    prediction = classify_cell(features)\n",
    "    if prediction != \"Unknown\":\n",
    "        return prediction\n",
    "\n",
    "    # Fallback: similarity-based classification\n",
    "    keys = ['Circularity', 'Estimated_Lobes', 'Nucleus/Cell_Ratio',\n",
    "            'HSV_H_Nucleus', 'HSV_H_Cytoplasm', 'HSV_S_Cytoplasm']\n",
    "\n",
    "    min_dist = float('inf')\n",
    "    closest_class = \"Unknown\"\n",
    "    for label, mean_feats in class_means.items():\n",
    "        dist = euclidean_distance(features, mean_feats, keys)\n",
    "        if dist < min_dist:\n",
    "            min_dist = dist\n",
    "            closest_class = label\n",
    "\n",
    "    return closest_class\n",
    "# Pre-compute mean feature vectors from your DataFrame\n",
    "import pandas as pd\n",
    "\n",
    "df = pd.read_csv(\"wbc_features_updated.csv\")\n",
    "\n",
    "# Use only relevant features\n",
    "mean_vectors = {}\n",
    "selected_keys = ['Circularity', 'Estimated_Lobes', 'Nucleus/Cell_Ratio',\n",
    "                 'HSV_H_Nucleus', 'HSV_H_Cytoplasm', 'HSV_S_Cytoplasm']\n",
    "\n",
    "for cls in df['Class'].unique():\n",
    "    row = df[df['Class'] == cls][selected_keys].mean()\n",
    "    mean_vectors[cls] = row.to_dict()\n"
   ],
   "id": "145b2859b7856794",
   "outputs": [],
   "execution_count": 20
  },
  {
   "metadata": {
    "ExecuteTime": {
     "end_time": "2025-04-19T17:23:45.395706Z",
     "start_time": "2025-04-19T17:23:45.378196Z"
    }
   },
   "cell_type": "code",
   "source": [
    "features = extract_features(test_image_path)\n",
    "predicted = classify_cell_with_fallback(features, mean_vectors)\n",
    "print(\"Predicted Class:\", predicted)\n"
   ],
   "id": "8be1573dcbddddc9",
   "outputs": [
    {
     "name": "stdout",
     "output_type": "stream",
     "text": [
      "Predicted Class: Eosinophil\n"
     ]
    }
   ],
   "execution_count": 21
  },
  {
   "metadata": {
    "ExecuteTime": {
     "end_time": "2025-04-19T17:25:34.734346Z",
     "start_time": "2025-04-19T17:25:34.700335Z"
    }
   },
   "cell_type": "code",
   "source": [
    "import os\n",
    "import pandas as pd\n",
    "\n",
    "def process_test_folder(test_dir, class_means):\n",
    "    results = []\n",
    "    supported_exts = ('.jpg', '.jpeg', '.png', '.bmp', '.tif', '.tiff')\n",
    "\n",
    "    for root, dirs, files in os.walk(test_dir):\n",
    "        for file in files:\n",
    "            if not file.lower().endswith(supported_exts):\n",
    "                continue\n",
    "\n",
    "            full_path = os.path.join(root, file)\n",
    "            true_label = os.path.basename(root)  # folder name = true label\n",
    "\n",
    "            try:\n",
    "                features = extract_features(full_path)\n",
    "                predicted = classify_cell_with_fallback(features, class_means)\n",
    "\n",
    "                result_row = {\n",
    "                    \"Image\": full_path,\n",
    "                    \"True_Class\": true_label,\n",
    "                    \"Predicted_Class\": predicted,\n",
    "                    \"Match\": \"Yes\" if predicted == true_label else \"No\"\n",
    "                }\n",
    "                result_row.update(features)\n",
    "                results.append(result_row)\n",
    "\n",
    "            except Exception as e:\n",
    "                print(f\"⚠️ Error processing {full_path}: {e}\")\n",
    "\n",
    "    return pd.DataFrame(results)\n",
    "import os\n",
    "import pandas as pd\n",
    "\n",
    "def process_test_folder(test_dir, class_means):\n",
    "    results = []\n",
    "    supported_exts = ('.jpg', '.jpeg', '.png', '.bmp', '.tif', '.tiff')\n",
    "\n",
    "    for root, dirs, files in os.walk(test_dir):\n",
    "        for file in files:\n",
    "            if not file.lower().endswith(supported_exts):\n",
    "                continue\n",
    "\n",
    "            full_path = os.path.join(root, file)\n",
    "            true_label = os.path.basename(root)  # folder name = true label\n",
    "\n",
    "            try:\n",
    "                features = extract_features(full_path)\n",
    "                predicted = classify_cell_with_fallback(features, class_means)\n",
    "\n",
    "                result_row = {\n",
    "                    \"Image\": full_path,\n",
    "                    \"True_Class\": true_label,\n",
    "                    \"Predicted_Class\": predicted,\n",
    "                    \"Match\": \"Yes\" if predicted == true_label else \"No\"\n",
    "                }\n",
    "                result_row.update(features)\n",
    "                results.append(result_row)\n",
    "\n",
    "            except Exception as e:\n",
    "                print(f\"⚠️ Error processing {full_path}: {e}\")\n",
    "\n",
    "    return pd.DataFrame(results)\n",
    "# Example test set folder\n",
    "test_dir = r\"E:\\2. DIP\\2. LAB\\pythonProject\\Projects\\Assignment 2\\wbc_data\\Test\"\n",
    "\n",
    "# Ensure mean_vectors is defined (see previous step)\n",
    "df_results = process_test_folder(test_dir, mean_vectors)\n",
    "\n",
    "# Save and view results\n",
    "df_results.to_csv(\"wbc_test_results.csv\", index=False)\n",
    "print(df_results.head())\n",
    "import pandas as pd\n",
    "\n",
    "# Load the results from the CSV file\n",
    "df_results = pd.read_csv(\"wbc_test_results.csv\")\n",
    "\n",
    "# Calculate accuracy: Number of correct predictions / Total number of predictions\n",
    "correct_predictions = df_results['Match'].str.lower() == 'yes'\n",
    "accuracy = correct_predictions.mean()\n",
    "\n",
    "# Print the accuracy\n",
    "print(f\"Accuracy: {accuracy * 100:.2f}%\")\n",
    "\n"
   ],
   "id": "b6ebbfa048282702",
   "outputs": [],
   "execution_count": 22
  },
  {
   "metadata": {
    "ExecuteTime": {
     "end_time": "2025-04-19T17:25:58.022855Z",
     "start_time": "2025-04-19T17:25:57.997010Z"
    }
   },
   "cell_type": "code",
   "source": "",
   "id": "bf968b469e62e871",
   "outputs": [],
   "execution_count": 23
  },
  {
   "metadata": {
    "ExecuteTime": {
     "end_time": "2025-04-19T17:26:15.303730Z",
     "start_time": "2025-04-19T17:26:13.020109Z"
    }
   },
   "cell_type": "code",
   "source": "",
   "id": "d9ce2e012737f65a",
   "outputs": [
    {
     "name": "stdout",
     "output_type": "stream",
     "text": [
      "                                               Image True_Class  \\\n",
      "0  E:\\2. DIP\\2. LAB\\pythonProject\\Projects\\Assign...   Basophil   \n",
      "1  E:\\2. DIP\\2. LAB\\pythonProject\\Projects\\Assign...   Basophil   \n",
      "2  E:\\2. DIP\\2. LAB\\pythonProject\\Projects\\Assign...   Basophil   \n",
      "3  E:\\2. DIP\\2. LAB\\pythonProject\\Projects\\Assign...   Basophil   \n",
      "4  E:\\2. DIP\\2. LAB\\pythonProject\\Projects\\Assign...   Basophil   \n",
      "\n",
      "  Predicted_Class Match  Circularity  Estimated_Lobes  Nucleus/Cell_Ratio  \\\n",
      "0        Basophil   Yes     0.248795                6            0.332581   \n",
      "1      Lymphocyte    No     0.455469               10            0.177399   \n",
      "2        Basophil   Yes     0.276540                6            0.375732   \n",
      "3      Neutrophil    No     0.466351               10            0.274994   \n",
      "4      Lymphocyte    No     0.375573               11            0.367950   \n",
      "\n",
      "   HSV_H_Nucleus  HSV_S_Nucleus  HSV_H_Cytoplasm  HSV_S_Cytoplasm  \n",
      "0     135.121720      89.033117        35.588284        44.694822  \n",
      "1     140.908075      89.617845        43.876105        26.844216  \n",
      "2     136.275775      94.230232        29.493497        50.575547  \n",
      "3     153.415742      70.528186        21.304406        52.983838  \n",
      "4     141.152683     107.489391        50.406192        43.676006  \n"
     ]
    }
   ],
   "execution_count": 24
  },
  {
   "metadata": {
    "ExecuteTime": {
     "end_time": "2025-04-19T17:27:07.337524Z",
     "start_time": "2025-04-19T17:27:07.217495Z"
    }
   },
   "cell_type": "code",
   "source": "df_results.columns",
   "id": "4885db1915c9e9f5",
   "outputs": [
    {
     "data": {
      "text/plain": [
       "Index(['Image', 'True_Class', 'Predicted_Class', 'Match', 'Circularity',\n",
       "       'Estimated_Lobes', 'Nucleus/Cell_Ratio', 'HSV_H_Nucleus',\n",
       "       'HSV_S_Nucleus', 'HSV_H_Cytoplasm', 'HSV_S_Cytoplasm'],\n",
       "      dtype='object')"
      ]
     },
     "execution_count": 25,
     "metadata": {},
     "output_type": "execute_result"
    }
   ],
   "execution_count": 25
  },
  {
   "metadata": {
    "ExecuteTime": {
     "end_time": "2025-04-19T17:28:00.470195Z",
     "start_time": "2025-04-19T17:28:00.335409Z"
    }
   },
   "cell_type": "code",
   "source": [
    "import pandas as pd\n",
    "\n",
    "# Load the results from the CSV file\n",
    "df_results = pd.read_csv(\"wbc_test_results.csv\")\n",
    "\n",
    "# Calculate accuracy: Number of correct predictions / Total number of predictions\n",
    "correct_predictions = df_results['Match'].str.lower() == 'yes'\n",
    "accuracy = correct_predictions.mean()\n",
    "\n",
    "# Print the accuracy\n",
    "print(f\"Accuracy: {accuracy * 100:.2f}%\")\n"
   ],
   "id": "a6904b58cc407d1f",
   "outputs": [
    {
     "name": "stdout",
     "output_type": "stream",
     "text": [
      "Accuracy: 30.80%\n"
     ]
    }
   ],
   "execution_count": 26
  },
  {
   "metadata": {},
   "cell_type": "code",
   "outputs": [],
   "execution_count": null,
   "source": "",
   "id": "28ec86b83459ed0e"
  }
 ],
 "metadata": {
  "kernelspec": {
   "display_name": "Python 3",
   "language": "python",
   "name": "python3"
  },
  "language_info": {
   "codemirror_mode": {
    "name": "ipython",
    "version": 2
   },
   "file_extension": ".py",
   "mimetype": "text/x-python",
   "name": "python",
   "nbconvert_exporter": "python",
   "pygments_lexer": "ipython2",
   "version": "2.7.6"
  }
 },
 "nbformat": 4,
 "nbformat_minor": 5
}
