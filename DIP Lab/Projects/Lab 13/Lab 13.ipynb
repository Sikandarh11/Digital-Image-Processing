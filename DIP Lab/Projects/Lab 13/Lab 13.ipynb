{
 "cells": [
  {
   "cell_type": "code",
   "id": "initial_id",
   "metadata": {
    "collapsed": true,
    "ExecuteTime": {
     "end_time": "2025-05-07T18:15:51.222524Z",
     "start_time": "2025-05-07T18:15:36.790662Z"
    }
   },
   "source": [
    "import pandas as pd\n",
    "import numpy as np\n",
    "from opentelemetry.sdk.metrics import Counter\n",
    "from sklearn.neighbors import KNeighborsClassifier\n",
    "from sklearn.metrics import confusion_matrix\n",
    "from sklearn.model_selection import train_test_split\n",
    "from sklearn.preprocessing import LabelEncoder\n",
    "from collections import Counter\n",
    "from sklearn.metrics import accuracy_score, ConfusionMatrixDisplay\n",
    "import matplotlib.pyplot as plt"
   ],
   "outputs": [],
   "execution_count": 1
  },
  {
   "metadata": {
    "ExecuteTime": {
     "end_time": "2025-05-05T04:06:14.582913Z",
     "start_time": "2025-05-05T04:06:14.566452Z"
    }
   },
   "cell_type": "code",
   "source": "df = pd.read_csv(\"Iris.csv\")",
   "id": "10eafdc393e252ea",
   "outputs": [],
   "execution_count": 3
  },
  {
   "metadata": {
    "ExecuteTime": {
     "end_time": "2025-05-05T04:06:18.126292Z",
     "start_time": "2025-05-05T04:06:18.094970Z"
    }
   },
   "cell_type": "code",
   "source": "df.head()",
   "id": "e4a83be1be5f19bf",
   "outputs": [
    {
     "data": {
      "text/plain": [
       "   Id  SepalLengthCm  SepalWidthCm  PetalLengthCm  PetalWidthCm      Species\n",
       "0   1            5.1           3.5            1.4           0.2  Iris-setosa\n",
       "1   2            4.9           3.0            1.4           0.2  Iris-setosa\n",
       "2   3            4.7           3.2            1.3           0.2  Iris-setosa\n",
       "3   4            4.6           3.1            1.5           0.2  Iris-setosa\n",
       "4   5            5.0           3.6            1.4           0.2  Iris-setosa"
      ],
      "text/html": [
       "<div>\n",
       "<style scoped>\n",
       "    .dataframe tbody tr th:only-of-type {\n",
       "        vertical-align: middle;\n",
       "    }\n",
       "\n",
       "    .dataframe tbody tr th {\n",
       "        vertical-align: top;\n",
       "    }\n",
       "\n",
       "    .dataframe thead th {\n",
       "        text-align: right;\n",
       "    }\n",
       "</style>\n",
       "<table border=\"1\" class=\"dataframe\">\n",
       "  <thead>\n",
       "    <tr style=\"text-align: right;\">\n",
       "      <th></th>\n",
       "      <th>Id</th>\n",
       "      <th>SepalLengthCm</th>\n",
       "      <th>SepalWidthCm</th>\n",
       "      <th>PetalLengthCm</th>\n",
       "      <th>PetalWidthCm</th>\n",
       "      <th>Species</th>\n",
       "    </tr>\n",
       "  </thead>\n",
       "  <tbody>\n",
       "    <tr>\n",
       "      <th>0</th>\n",
       "      <td>1</td>\n",
       "      <td>5.1</td>\n",
       "      <td>3.5</td>\n",
       "      <td>1.4</td>\n",
       "      <td>0.2</td>\n",
       "      <td>Iris-setosa</td>\n",
       "    </tr>\n",
       "    <tr>\n",
       "      <th>1</th>\n",
       "      <td>2</td>\n",
       "      <td>4.9</td>\n",
       "      <td>3.0</td>\n",
       "      <td>1.4</td>\n",
       "      <td>0.2</td>\n",
       "      <td>Iris-setosa</td>\n",
       "    </tr>\n",
       "    <tr>\n",
       "      <th>2</th>\n",
       "      <td>3</td>\n",
       "      <td>4.7</td>\n",
       "      <td>3.2</td>\n",
       "      <td>1.3</td>\n",
       "      <td>0.2</td>\n",
       "      <td>Iris-setosa</td>\n",
       "    </tr>\n",
       "    <tr>\n",
       "      <th>3</th>\n",
       "      <td>4</td>\n",
       "      <td>4.6</td>\n",
       "      <td>3.1</td>\n",
       "      <td>1.5</td>\n",
       "      <td>0.2</td>\n",
       "      <td>Iris-setosa</td>\n",
       "    </tr>\n",
       "    <tr>\n",
       "      <th>4</th>\n",
       "      <td>5</td>\n",
       "      <td>5.0</td>\n",
       "      <td>3.6</td>\n",
       "      <td>1.4</td>\n",
       "      <td>0.2</td>\n",
       "      <td>Iris-setosa</td>\n",
       "    </tr>\n",
       "  </tbody>\n",
       "</table>\n",
       "</div>"
      ]
     },
     "execution_count": 4,
     "metadata": {},
     "output_type": "execute_result"
    }
   ],
   "execution_count": 4
  },
  {
   "metadata": {
    "ExecuteTime": {
     "end_time": "2025-05-05T04:20:26.743419Z",
     "start_time": "2025-05-05T04:20:26.731064Z"
    }
   },
   "cell_type": "code",
   "source": [
    "X = df.drop(['Species', \"Id\"], axis=1)\n",
    "y = df['Species']"
   ],
   "id": "bb579f72bc4e7ade",
   "outputs": [],
   "execution_count": 11
  },
  {
   "metadata": {
    "ExecuteTime": {
     "end_time": "2025-05-05T04:20:27.087970Z",
     "start_time": "2025-05-05T04:20:27.048805Z"
    }
   },
   "cell_type": "code",
   "source": "X.head()",
   "id": "26168ac181f9e1f0",
   "outputs": [
    {
     "data": {
      "text/plain": [
       "   SepalLengthCm  SepalWidthCm  PetalLengthCm  PetalWidthCm\n",
       "0            5.1           3.5            1.4           0.2\n",
       "1            4.9           3.0            1.4           0.2\n",
       "2            4.7           3.2            1.3           0.2\n",
       "3            4.6           3.1            1.5           0.2\n",
       "4            5.0           3.6            1.4           0.2"
      ],
      "text/html": [
       "<div>\n",
       "<style scoped>\n",
       "    .dataframe tbody tr th:only-of-type {\n",
       "        vertical-align: middle;\n",
       "    }\n",
       "\n",
       "    .dataframe tbody tr th {\n",
       "        vertical-align: top;\n",
       "    }\n",
       "\n",
       "    .dataframe thead th {\n",
       "        text-align: right;\n",
       "    }\n",
       "</style>\n",
       "<table border=\"1\" class=\"dataframe\">\n",
       "  <thead>\n",
       "    <tr style=\"text-align: right;\">\n",
       "      <th></th>\n",
       "      <th>SepalLengthCm</th>\n",
       "      <th>SepalWidthCm</th>\n",
       "      <th>PetalLengthCm</th>\n",
       "      <th>PetalWidthCm</th>\n",
       "    </tr>\n",
       "  </thead>\n",
       "  <tbody>\n",
       "    <tr>\n",
       "      <th>0</th>\n",
       "      <td>5.1</td>\n",
       "      <td>3.5</td>\n",
       "      <td>1.4</td>\n",
       "      <td>0.2</td>\n",
       "    </tr>\n",
       "    <tr>\n",
       "      <th>1</th>\n",
       "      <td>4.9</td>\n",
       "      <td>3.0</td>\n",
       "      <td>1.4</td>\n",
       "      <td>0.2</td>\n",
       "    </tr>\n",
       "    <tr>\n",
       "      <th>2</th>\n",
       "      <td>4.7</td>\n",
       "      <td>3.2</td>\n",
       "      <td>1.3</td>\n",
       "      <td>0.2</td>\n",
       "    </tr>\n",
       "    <tr>\n",
       "      <th>3</th>\n",
       "      <td>4.6</td>\n",
       "      <td>3.1</td>\n",
       "      <td>1.5</td>\n",
       "      <td>0.2</td>\n",
       "    </tr>\n",
       "    <tr>\n",
       "      <th>4</th>\n",
       "      <td>5.0</td>\n",
       "      <td>3.6</td>\n",
       "      <td>1.4</td>\n",
       "      <td>0.2</td>\n",
       "    </tr>\n",
       "  </tbody>\n",
       "</table>\n",
       "</div>"
      ]
     },
     "execution_count": 12,
     "metadata": {},
     "output_type": "execute_result"
    }
   ],
   "execution_count": 12
  },
  {
   "metadata": {
    "ExecuteTime": {
     "end_time": "2025-05-05T04:20:41.617731Z",
     "start_time": "2025-05-05T04:20:41.559596Z"
    }
   },
   "cell_type": "code",
   "source": [
    "y = LabelEncoder().fit_transform(y)\n",
    "y"
   ],
   "id": "1fc0ff365dfe207c",
   "outputs": [
    {
     "data": {
      "text/plain": [
       "array([0, 0, 0, 0, 0, 0, 0, 0, 0, 0, 0, 0, 0, 0, 0, 0, 0, 0, 0, 0, 0, 0,\n",
       "       0, 0, 0, 0, 0, 0, 0, 0, 0, 0, 0, 0, 0, 0, 0, 0, 0, 0, 0, 0, 0, 0,\n",
       "       0, 0, 0, 0, 0, 0, 1, 1, 1, 1, 1, 1, 1, 1, 1, 1, 1, 1, 1, 1, 1, 1,\n",
       "       1, 1, 1, 1, 1, 1, 1, 1, 1, 1, 1, 1, 1, 1, 1, 1, 1, 1, 1, 1, 1, 1,\n",
       "       1, 1, 1, 1, 1, 1, 1, 1, 1, 1, 1, 1, 2, 2, 2, 2, 2, 2, 2, 2, 2, 2,\n",
       "       2, 2, 2, 2, 2, 2, 2, 2, 2, 2, 2, 2, 2, 2, 2, 2, 2, 2, 2, 2, 2, 2,\n",
       "       2, 2, 2, 2, 2, 2, 2, 2, 2, 2, 2, 2, 2, 2, 2, 2, 2, 2])"
      ]
     },
     "execution_count": 13,
     "metadata": {},
     "output_type": "execute_result"
    }
   ],
   "execution_count": 13
  },
  {
   "metadata": {
    "ExecuteTime": {
     "end_time": "2025-05-05T04:21:30.606226Z",
     "start_time": "2025-05-05T04:21:30.499105Z"
    }
   },
   "cell_type": "code",
   "source": "X_train, X_test, y_train, y_test  = train_test_split(X, y, test_size=0.2, random_state=42)",
   "id": "d7e2e32450b67877",
   "outputs": [],
   "execution_count": 14
  },
  {
   "metadata": {
    "ExecuteTime": {
     "end_time": "2025-05-05T04:29:50.066744Z",
     "start_time": "2025-05-05T04:29:50.057053Z"
    }
   },
   "cell_type": "code",
   "source": "X_train.shape[0]",
   "id": "1fe8ea0442660202",
   "outputs": [
    {
     "data": {
      "text/plain": [
       "120"
      ]
     },
     "execution_count": 34,
     "metadata": {},
     "output_type": "execute_result"
    }
   ],
   "execution_count": 34
  },
  {
   "metadata": {
    "ExecuteTime": {
     "end_time": "2025-05-05T04:52:05.655395Z",
     "start_time": "2025-05-05T04:52:05.639546Z"
    }
   },
   "cell_type": "code",
   "source": [
    "def diff_power(x1, x2):\n",
    "    return np.power(x1 - x2, 2)\n",
    "\n",
    "def Euclidian_distance(X_train, x1, x2, x3, x4):\n",
    "    dist_list = []\n",
    "    dist_label = []\n",
    "    for i in range(X_train.shape[0]):\n",
    "        vect = X_train.iloc[i, :].values\n",
    "        d1 = diff_power(vect[0], x1)\n",
    "        d2 = diff_power(vect[1], x2)\n",
    "        d3 = diff_power(vect[2], x3)\n",
    "        d4 = diff_power(vect[3], x4)\n",
    "        dist = np.sqrt(d1 + d2 + d3 + d4)\n",
    "        dist_list.append(dist)\n",
    "        dist_label.append(y_train[i])\n",
    "    return dist_label, dist_list\n",
    "\n",
    "\n",
    "def K_Nearest_Neighbors(X_train, vect, k=3):\n",
    "    dist_label, dist_list = Euclidian_distance(X_train, vect[0], vect[1], vect[2], vect[3])\n",
    "    df = pd.DataFrame({'Distance': dist_list, 'label': dist_label})\n",
    "    df_sorted = df.sort_values(by='Distance')\n",
    "    #print(df_sorted)\n",
    "    nearest_labels = df_sorted['label'].head(k)\n",
    "    nb = Counter(nearest_labels)\n",
    "    most_common_label, count = nb.most_common(1)[0]\n",
    "\n",
    "    return most_common_label\n"
   ],
   "id": "eab70a29b4476829",
   "outputs": [],
   "execution_count": 62
  },
  {
   "metadata": {
    "ExecuteTime": {
     "end_time": "2025-05-05T04:52:15.629275Z",
     "start_time": "2025-05-05T04:52:14.962836Z"
    }
   },
   "cell_type": "code",
   "source": [
    "pred = []\n",
    "for i in range(X_test.shape[0]):\n",
    "    pred.append(K_Nearest_Neighbors(X_train, vect=X_test.iloc[i, :], k=3))\n",
    "\n",
    "accuracy_score(pred, y_test)*100"
   ],
   "id": "f017dadece69442",
   "outputs": [
    {
     "name": "stderr",
     "output_type": "stream",
     "text": [
      "C:\\Users\\Sikandar\\AppData\\Local\\Temp\\ipykernel_15660\\3717751531.py:20: FutureWarning: Series.__getitem__ treating keys as positions is deprecated. In a future version, integer keys will always be treated as labels (consistent with DataFrame behavior). To access a value by position, use `ser.iloc[pos]`\n",
      "  dist_label, dist_list = Euclidian_distance(X_train, vect[0], vect[1], vect[2], vect[3])\n"
     ]
    },
    {
     "data": {
      "text/plain": [
       "100.0"
      ]
     },
     "execution_count": 64,
     "metadata": {},
     "output_type": "execute_result"
    }
   ],
   "execution_count": 64
  },
  {
   "metadata": {
    "ExecuteTime": {
     "end_time": "2025-05-05T04:52:36.817647Z",
     "start_time": "2025-05-05T04:52:36.704999Z"
    }
   },
   "cell_type": "code",
   "source": [
    "\n",
    "knn_model = KNeighborsClassifier(n_neighbors=3)\n",
    "knn_model.fit(X_train, y_train)\n",
    "\n",
    "y_pred_knn = knn_model.predict(X_test)\n",
    "accuracy_knn = accuracy_score(y_test, y_pred_knn)\n",
    "print(f\"KNN Accuracy: {accuracy_knn:.2f}\")\n"
   ],
   "id": "632cdb7567aaa3a0",
   "outputs": [
    {
     "name": "stdout",
     "output_type": "stream",
     "text": [
      "KNN Accuracy: 1.00\n"
     ]
    }
   ],
   "execution_count": 65
  },
  {
   "metadata": {
    "ExecuteTime": {
     "end_time": "2025-05-05T05:00:18.122311Z",
     "start_time": "2025-05-05T05:00:17.917184Z"
    }
   },
   "cell_type": "code",
   "source": [
    "cm = confusion_matrix(y_test, pred, labels=np.unique(y_test))\n",
    "disp = ConfusionMatrixDisplay(confusion_matrix=cm, display_labels=np.unique(y_test))\n",
    "disp.plot()\n",
    "plt.show()"
   ],
   "id": "c54dd3bbae6ba9bf",
   "outputs": [
    {
     "data": {
      "text/plain": [
       "<Figure size 640x480 with 2 Axes>"
      ],
      "image/png": "[encoded data removed]"
     },
     "metadata": {},
     "output_type": "display_data"
    }
   ],
   "execution_count": 69
  },
  {
   "metadata": {
    "ExecuteTime": {
     "end_time": "2025-05-05T05:41:27.479577Z",
     "start_time": "2025-05-05T05:41:25.497461Z"
    }
   },
   "cell_type": "code",
   "source": [
    "import matplotlib.pyplot as plt\n",
    "from mlxtend.plotting import plot_decision_regions\n",
    "from sklearn.neighbors import KNeighborsClassifier\n",
    "\n",
    "# Assuming X and y are your data and labels\n",
    "# Make sure X is 2D and y is 1D\n",
    "\n",
    "# Example of 2D data (for visualization)\n",
    "# If you have more than two features, use PCA or select two features for visualization\n",
    "X = X_train.iloc[:, :2].values  # Select the first two features of X_train\n",
    "y = y_train  # Assuming y_train is the target labels for the data\n",
    "\n",
    "# Create and fit the KNN model\n",
    "knn_model = KNeighborsClassifier(n_neighbors=5)\n",
    "knn_model.fit(X, y)\n",
    "\n",
    "# Plot the decision regions\n",
    "plot_decision_regions(X=X, y=y, clf=knn_model, legend=2)\n",
    "\n",
    "# Set axis labels\n",
    "plt.xlabel('X')\n",
    "plt.ylabel('Y')\n",
    "\n",
    "# Show the plot\n",
    "plt.show()\n"
   ],
   "id": "105cc25746c5910d",
   "outputs": [
    {
     "ename": "ModuleNotFoundError",
     "evalue": "No module named 'mlxtend'",
     "output_type": "error",
     "traceback": [
      "\u001B[31m---------------------------------------------------------------------------\u001B[39m",
      "\u001B[31mModuleNotFoundError\u001B[39m                       Traceback (most recent call last)",
      "\u001B[36mCell\u001B[39m\u001B[36m \u001B[39m\u001B[32mIn[70]\u001B[39m\u001B[32m, line 2\u001B[39m\n\u001B[32m      1\u001B[39m \u001B[38;5;28;01mimport\u001B[39;00m\u001B[38;5;250m \u001B[39m\u001B[34;01mmatplotlib\u001B[39;00m\u001B[34;01m.\u001B[39;00m\u001B[34;01mpyplot\u001B[39;00m\u001B[38;5;250m \u001B[39m\u001B[38;5;28;01mas\u001B[39;00m\u001B[38;5;250m \u001B[39m\u001B[34;01mplt\u001B[39;00m\n\u001B[32m----> \u001B[39m\u001B[32m2\u001B[39m \u001B[38;5;28;01mfrom\u001B[39;00m\u001B[38;5;250m \u001B[39m\u001B[34;01mmlxtend\u001B[39;00m\u001B[34;01m.\u001B[39;00m\u001B[34;01mplotting\u001B[39;00m\u001B[38;5;250m \u001B[39m\u001B[38;5;28;01mimport\u001B[39;00m plot_decision_regions\n\u001B[32m      3\u001B[39m \u001B[38;5;28;01mfrom\u001B[39;00m\u001B[38;5;250m \u001B[39m\u001B[34;01msklearn\u001B[39;00m\u001B[34;01m.\u001B[39;00m\u001B[34;01mneighbors\u001B[39;00m\u001B[38;5;250m \u001B[39m\u001B[38;5;28;01mimport\u001B[39;00m KNeighborsClassifier\n\u001B[32m      5\u001B[39m \u001B[38;5;66;03m# Assuming X and y are your data and labels\u001B[39;00m\n\u001B[32m      6\u001B[39m \u001B[38;5;66;03m# Make sure X is 2D and y is 1D\u001B[39;00m\n\u001B[32m      7\u001B[39m \n\u001B[32m      8\u001B[39m \u001B[38;5;66;03m# Example of 2D data (for visualization)\u001B[39;00m\n\u001B[32m      9\u001B[39m \u001B[38;5;66;03m# If you have more than two features, use PCA or select two features for visualization\u001B[39;00m\n",
      "\u001B[31mModuleNotFoundError\u001B[39m: No module named 'mlxtend'"
     ]
    }
   ],
   "execution_count": 70
  },
  {
   "metadata": {},
   "cell_type": "code",
   "outputs": [],
   "execution_count": null,
   "source": "",
   "id": "37612f1e324629de"
  }
 ],
 "metadata": {
  "kernelspec": {
   "display_name": "Python 3",
   "language": "python",
   "name": "python3"
  },
  "language_info": {
   "codemirror_mode": {
    "name": "ipython",
    "version": 2
   },
   "file_extension": ".py",
   "mimetype": "text/x-python",
   "name": "python",
   "nbconvert_exporter": "python",
   "pygments_lexer": "ipython2",
   "version": "2.7.6"
  }
 },
 "nbformat": 4,
 "nbformat_minor": 5
}
