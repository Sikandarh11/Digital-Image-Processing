{
 "cells": [
  {
   "cell_type": "code",
   "id": "initial_id",
   "metadata": {
    "collapsed": true,
    "ExecuteTime": {
     "end_time": "2025-03-19T16:30:59.089506Z",
     "start_time": "2025-03-19T16:30:48.056655Z"
    }
   },
   "source": [
    "import cv2\n",
    "import numpy as np\n",
    "import matplotlib.pyplot as plt\n",
    "img = cv2.imread('/Projects/Lab 5/min.png', 0)\n",
    "#s = np.zeros_like(img, dtype=np.int32)"
   ],
   "outputs": [],
   "execution_count": 1
  },
  {
   "metadata": {
    "ExecuteTime": {
     "end_time": "2025-03-19T16:30:59.145845Z",
     "start_time": "2025-03-19T16:30:59.092788Z"
    }
   },
   "cell_type": "code",
   "source": "img",
   "id": "7ea4204ab6ce8703",
   "outputs": [
    {
     "data": {
      "text/plain": [
       "array([[  0,   0,   0, ...,   0,   0, 254],\n",
       "       [  0,   0,   0, ...,   0,   0, 254],\n",
       "       [  0,   0,   0, ...,   0,   0, 254],\n",
       "       ...,\n",
       "       [  0,   0,   0, ...,   0,   0, 254],\n",
       "       [  0,   0,   0, ...,   0,   0, 254],\n",
       "       [  0,   0,   0, ...,   0,   0, 254]], dtype=uint8)"
      ]
     },
     "execution_count": 2,
     "metadata": {},
     "output_type": "execute_result"
    }
   ],
   "execution_count": 2
  },
  {
   "metadata": {
    "ExecuteTime": {
     "end_time": "2025-03-19T16:30:59.176437Z",
     "start_time": "2025-03-19T16:30:59.152971Z"
    }
   },
   "cell_type": "code",
   "source": [
    "def min_val(window):\n",
    "    return np.min(window)\n",
    "def max_val(window):\n",
    "    return np.max(window)\n",
    "def median_value(window):\n",
    "    return np.median(window)\n",
    "\n",
    "def filters(img, size, op):\n",
    "    step = size // 2\n",
    "    padded_img = np.pad(img, pad_width=step, mode='constant', constant_values=0)\n",
    "    new_img = np.zeros_like(img)\n",
    "    row, col = new_img.shape\n",
    "    for i in range(step, row-step): \n",
    "        for j in range(step, col-step):  \n",
    "            window = padded_img[i:i+size, j:j+size]\n",
    "            if op == \"median\":\n",
    "                new_img[i, j] = median_value(window)\n",
    "            elif op == \"min\":\n",
    "                new_img[i, j] = min_val(window)\n",
    "            elif op == \"max\":\n",
    "                new_img[i, j] = max_val(window)\n",
    "    return new_img\n"
   ],
   "id": "724af3133dba1b87",
   "outputs": [],
   "execution_count": 3
  },
  {
   "metadata": {
    "ExecuteTime": {
     "end_time": "2025-03-02T15:09:03.668822Z",
     "start_time": "2025-03-02T15:09:02.077429Z"
    }
   },
   "cell_type": "code",
   "source": [
    "median_img = median_filter(img, 3)\n",
    "plt.imshow(median_img, cmap='gray')"
   ],
   "id": "c9e22f5fbf73b22f",
   "outputs": [
    {
     "data": {
      "text/plain": [
       "<matplotlib.image.AxesImage at 0x24d080b6c50>"
      ]
     },
     "execution_count": 5,
     "metadata": {},
     "output_type": "execute_result"
    },
    {
     "data": {
      "text/plain": [
       "<Figure size 640x480 with 1 Axes>"
      ],
      "image/png": "[encoded data removed]"
     },
     "metadata": {},
     "output_type": "display_data"
    }
   ],
   "execution_count": 5
  },
  {
   "metadata": {
    "ExecuteTime": {
     "end_time": "2025-02-27T04:33:14.169276Z",
     "start_time": "2025-02-27T04:33:14.105231Z"
    }
   },
   "cell_type": "code",
   "source": [
    "import numpy as np\n",
    "import matplotlib.pyplot as plt\n",
    "\n",
    "def median_filter(img, size):\n",
    "    if len(img.shape) != 2:\n",
    "        raise ValueError(\"Input image must be a 2D grayscale image.\")\n",
    "\n",
    "    step = size // 2\n",
    "    padded_img = np.pad(img, pad_width=step, mode='constant', constant_values=0)\n",
    "    new_img = np.zeros_like(img)\n",
    "    \n",
    "    row, col = img.shape  # Use img.shape instead of new_img.shape\n",
    "    for i in range(row):\n",
    "        for j in range(col):  \n",
    "            window = padded_img[i:i+size, j:j+size]\n",
    "            new_img[i, j] = np.median(window)\n",
    "\n",
    "    return new_img\n",
    "\n",
    "\n",
    "filtered_img = median_filter(img2, 3)\n",
    "\n",
    "plt.imshow(filtered_img, cmap='gray')\n",
    "plt.show()\n"
   ],
   "id": "97cf8f5290e7efbc",
   "outputs": [
    {
     "ename": "ValueError",
     "evalue": "Input image must be a 2D grayscale image.",
     "output_type": "error",
     "traceback": [
      "\u001B[1;31m---------------------------------------------------------------------------\u001B[0m",
      "\u001B[1;31mValueError\u001B[0m                                Traceback (most recent call last)",
      "Cell \u001B[1;32mIn[39], line 21\u001B[0m\n\u001B[0;32m     16\u001B[0m             new_img[i, j] \u001B[38;5;241m=\u001B[39m np\u001B[38;5;241m.\u001B[39mmedian(window)\n\u001B[0;32m     18\u001B[0m     \u001B[38;5;28;01mreturn\u001B[39;00m new_img\n\u001B[1;32m---> 21\u001B[0m filtered_img \u001B[38;5;241m=\u001B[39m \u001B[43mmedian_filter\u001B[49m\u001B[43m(\u001B[49m\u001B[43mimg2\u001B[49m\u001B[43m,\u001B[49m\u001B[43m \u001B[49m\u001B[38;5;241;43m3\u001B[39;49m\u001B[43m)\u001B[49m\n\u001B[0;32m     23\u001B[0m plt\u001B[38;5;241m.\u001B[39mimshow(filtered_img, cmap\u001B[38;5;241m=\u001B[39m\u001B[38;5;124m'\u001B[39m\u001B[38;5;124mgray\u001B[39m\u001B[38;5;124m'\u001B[39m)\n\u001B[0;32m     24\u001B[0m plt\u001B[38;5;241m.\u001B[39mshow()\n",
      "Cell \u001B[1;32mIn[39], line 6\u001B[0m, in \u001B[0;36mmedian_filter\u001B[1;34m(img, size)\u001B[0m\n\u001B[0;32m      4\u001B[0m \u001B[38;5;28;01mdef\u001B[39;00m\u001B[38;5;250m \u001B[39m\u001B[38;5;21mmedian_filter\u001B[39m(img, size):\n\u001B[0;32m      5\u001B[0m     \u001B[38;5;28;01mif\u001B[39;00m \u001B[38;5;28mlen\u001B[39m(img\u001B[38;5;241m.\u001B[39mshape) \u001B[38;5;241m!=\u001B[39m \u001B[38;5;241m2\u001B[39m:\n\u001B[1;32m----> 6\u001B[0m         \u001B[38;5;28;01mraise\u001B[39;00m \u001B[38;5;167;01mValueError\u001B[39;00m(\u001B[38;5;124m\"\u001B[39m\u001B[38;5;124mInput image must be a 2D grayscale image.\u001B[39m\u001B[38;5;124m\"\u001B[39m)\n\u001B[0;32m      8\u001B[0m     step \u001B[38;5;241m=\u001B[39m size \u001B[38;5;241m/\u001B[39m\u001B[38;5;241m/\u001B[39m \u001B[38;5;241m2\u001B[39m\n\u001B[0;32m      9\u001B[0m     padded_img \u001B[38;5;241m=\u001B[39m np\u001B[38;5;241m.\u001B[39mpad(img, pad_width\u001B[38;5;241m=\u001B[39mstep, mode\u001B[38;5;241m=\u001B[39m\u001B[38;5;124m'\u001B[39m\u001B[38;5;124mconstant\u001B[39m\u001B[38;5;124m'\u001B[39m, constant_values\u001B[38;5;241m=\u001B[39m\u001B[38;5;241m0\u001B[39m)\n",
      "\u001B[1;31mValueError\u001B[0m: Input image must be a 2D grayscale image."
     ]
    }
   ],
   "execution_count": 39
  },
  {
   "metadata": {
    "ExecuteTime": {
     "end_time": "2025-02-27T04:22:38.708664Z",
     "start_time": "2025-02-27T04:22:38.707539Z"
    }
   },
   "cell_type": "code",
   "source": "",
   "id": "6215ab172dd6fcd7",
   "outputs": [],
   "execution_count": null
  },
  {
   "metadata": {},
   "cell_type": "code",
   "outputs": [],
   "execution_count": null,
   "source": "",
   "id": "6c06c2b9286a471e"
  }
 ],
 "metadata": {
  "kernelspec": {
   "display_name": "Python 3",
   "language": "python",
   "name": "python3"
  },
  "language_info": {
   "codemirror_mode": {
    "name": "ipython",
    "version": 2
   },
   "file_extension": ".py",
   "mimetype": "text/x-python",
   "name": "python",
   "nbconvert_exporter": "python",
   "pygments_lexer": "ipython2",
   "version": "2.7.6"
  }
 },
 "nbformat": 4,
 "nbformat_minor": 5
}
